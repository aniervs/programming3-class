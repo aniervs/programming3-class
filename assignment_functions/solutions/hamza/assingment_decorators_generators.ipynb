{
 "cells": [
  {
   "cell_type": "markdown",
   "metadata": {},
   "source": [
    "In this assignment, you'll be working with functions, generators, and decorators."
   ]
  },
  {
   "cell_type": "markdown",
   "metadata": {},
   "source": [
    "## Instructions"
   ]
  },
  {
   "cell_type": "markdown",
   "metadata": {},
   "source": [
    "- Inside the solutions folder (`programming3-class/assignment_functions/solutions/`), create a folder with your name lowercase (for e.g., if your name is Anier, then your folder would be named `anier`).\n",
    "- Copy the given notebook inside the corresponding folder (in my case, I would have to copy it to `programming3-class/assignment_functions/solutions/anier/`) and solve the tasks.\n",
    "- Each of the tasks contains a line saying `raise NotImplementedError`. This is there in purpose. Once you've implemented a task, remove that line on that task.\n",
    "- Once you're done, make a PR with your commits."
   ]
  },
  {
   "cell_type": "markdown",
   "metadata": {},
   "source": [
    "## Task 1"
   ]
  },
  {
   "cell_type": "markdown",
   "metadata": {},
   "source": [
    "Write a function with documentation in a docstring (no need for a complicated documentation, just something very simple describing the function).\n",
    "- The function should contain all types of arguments (positional, positional with defaults, arbitrary args, keyword args, arbitrary keyword args)."
   ]
  },
  {
   "cell_type": "code",
   "execution_count": 8,
   "metadata": {},
   "outputs": [],
   "source": [
    "def my_function(a, b=42, *args, c, d=100, **kwargs):\n",
    "    \"\"\"\n",
    "    A demonstration function that includes every type of argument.\n",
    "\n",
    "    Parameters:\n",
    "    - a: Positional argument: the one the user chooses\n",
    "    - b: An optional positional argument with a default value.\n",
    "    - *args: Arbitrary positional arguments: several arguments like numbers sent at once\n",
    "    - c: A mandatory keyword argument.\n",
    "    - d: An optional keyword argument with a default value.\n",
    "    - **kwargs: Arbitrary keyword arguments: several objects like person=\"john\" sent at once\n",
    "    \"\"\"\n",
    "    print(f\"Mandatory positional argument a: {a}\")\n",
    "    print(f\"Optional positional argument with default b: {b}\")\n",
    "    print(f\"Arbitrary positional arguments (*args): {args}\")\n",
    "    print(f\"Mandatory keyword argument c: {c}\")\n",
    "    print(f\"Optional keyword argument with default d: {d}\")\n",
    "    print(f\"Arbitrary keyword arguments (**kwargs): {kwargs}\")\n",
    "\n",
    "\n",
    "# Example usage\n",
    "my_function(1, 2, 3, 4, 5, c=6, d=7, e=8, f=9, g=10)"
   ]
  },
  {
   "cell_type": "markdown",
   "metadata": {},
   "source": [
    "## Task 2"
   ]
  },
  {
   "cell_type": "markdown",
   "metadata": {},
   "source": [
    "A number is prime if it has 2 divisors exactly.\n",
    "\n",
    "The first few primes are: 2, 3, 5, 7, 11, ...\n",
    "\n",
    "\n",
    "\n",
    "Make a function that checks if a number is prime or not."
   ]
  },
  {
   "cell_type": "code",
   "execution_count": 9,
   "metadata": {},
   "outputs": [],
   "source": [
    "\n",
    "from math import sqrt\n",
    "\n",
    "def is_prime(n: int) -> bool:\n",
    "\n",
    "    \"\"\"\n",
    "        A prime number is a number greater than 1 that has no positive divisors other than 1 and itself.\n",
    "        If the number is less than 2, it's not prime.\n",
    "        This function checks divisibility by all numbers up to the square root of n to determine\n",
    "        which number are prime.\n",
    "        \"\"\"\n",
    "\n",
    "    if n < 2:\n",
    "        return False\n",
    "\n",
    "    for i in range(2, int(sqrt(n)) + 1):\n",
    "        if n % i == 0:\n",
    "            return False\n",
    "\n",
    "    return True\n",
    "\n",
    "\n",
    "print(f\"1: {is_prime(1)}\")\n",
    "print(f\"2: {is_prime(2)}\")\n",
    "print(f\"3: {is_prime(3)}\")\n",
    "print(f\"4: {is_prime(4)}\")\n",
    "print(f\"7: {is_prime(7)}\")\n",
    "print(f\"9: {is_prime(9)}\")\n"
   ]
  },
  {
   "cell_type": "markdown",
   "metadata": {},
   "source": [
    "\n",
    "## Task 3"
   ]
  },
  {
   "cell_type": "markdown",
   "metadata": {},
   "source": [
    "Implement the following function according to the docstring provided.\n",
    "\n",
    "Read https://docs.python.org/3.11/library/inspect.html in order to see how to get each requested information."
   ]
  },
  {
   "cell_type": "code",
   "execution_count": 10,
   "metadata": {},
   "outputs": [],
   "source": [
    "\n",
    "import inspect\n",
    "def function3(x,*numbers, y=True,**person):\n",
    "\n",
    "    pass\n",
    "\n",
    "def inspect_function(function):\n",
    "    \"\"\"\n",
    "        Prints the name and parameters of a function.\n",
    "        It shows each parameter's name and whether it is positional, keyword-only, or accepts variable numbers of arguments.\n",
    "        This is useful for understanding how to call the function and what kinds of arguments it accepts.\n",
    "        \"\"\"\n",
    "\n",
    "    print(function.__name__)\n",
    "\n",
    "    sig = inspect.signature(function)\n",
    "\n",
    "\n",
    "    for name, param in sig.parameters.items():\n",
    "\n",
    "        parameter_type = 'POSITIONAL OR KEYWORD'\n",
    "\n",
    "        if param.kind == param.POSITIONAL_ONLY:\n",
    "            parameter_type = 'POSITIONAL ONLY'\n",
    "\n",
    "        elif param.kind == param.KEYWORD_ONLY:\n",
    "            parameter_type = 'KEYWORD ONLY'\n",
    "\n",
    "        elif param.kind == param.VAR_POSITIONAL:\n",
    "            parameter_type = 'VAR POSITIONAL (*args)'\n",
    "\n",
    "        elif param.kind == param.VAR_KEYWORD:\n",
    "            parameter_type = 'VAR KEYWORD (**kwargs)'\n",
    "\n",
    "        print(f\" Parameter name: {name}, Type: {parameter_type}\")\n",
    "\n",
    "inspect_function(function3)\n",
    "\n"
   ]
  },
  {
   "cell_type": "markdown",
   "metadata": {},
   "source": [
    "## Task 4"
   ]
  },
  {
   "cell_type": "markdown",
   "metadata": {},
   "source": [
    "The following function isn't working properly. \n",
    "Fix it so that it prints the current datetime with a message."
   ]
  },
  {
   "cell_type": "code",
   "execution_count": null,
   "metadata": {},
   "outputs": [],
   "source": [
    "\n",
    "\n",
    "from datetime import datetime\n",
    "from time import sleep\n",
    "\n",
    "def my_time_now(msg, *, dt=None):\n",
    "    if dt is None:\n",
    "        dt = datetime.now()  #\n",
    "    print(msg, dt)\n",
    "\n",
    "my_time_now('The time is now: ')\n",
    "sleep(5)\n",
    "my_time_now('The time is now: ')\n",
    "sleep(5)\n",
    "my_time_now('The time is now: ')\n",
    "\n",
    "\n"
   ]
  },
  {
   "cell_type": "code",
   "execution_count": 12,
   "metadata": {},
   "outputs": [
    {
     "name": "stdout",
     "output_type": "stream",
     "text": [
      "The time is now:  2024-02-06 01:06:05.034610\n",
      "The time is now:  2024-02-06 01:06:05.034610\n",
      "The time is now:  2024-02-06 01:06:05.034610\n"
     ]
    }
   ],
   "source": [
    "# simple tests :)\n",
    "my_time_now('The time is now: ')\n",
    "sleep(1)\n",
    "my_time_now('The time is now: ')\n",
    "sleep(1)\n",
    "my_time_now('The time is now: ')"
   ]
  },
  {
   "cell_type": "markdown",
   "metadata": {},
   "source": [
    "## Task 5"
   ]
  },
  {
   "cell_type": "markdown",
   "metadata": {},
   "source": [
    "Make a function that returns at most `max_count` values of a given generator."
   ]
  },
  {
   "cell_type": "code",
   "execution_count": 13,
   "metadata": {},
   "outputs": [],
   "source": [
    "\n",
    "\n",
    "\n",
    "def limit(max_count, input_generator):\n",
    "    \"\"\"\n",
    "        Limits the number of values yielded by an input generator.\n",
    "        `max_count` specifies the maximum number of values to yield.\n",
    "        `input_generator` is the generator to consume values from.\n",
    "        This function is useful for controlling the amount of data processed.\n",
    "        The main goal of yield is to use less memory\n",
    "        For example, it creates a generator with values from 0 to 5\n",
    "        But you can't print the generator directly\n",
    "        You need to loop through it to ge the values, because they are not stored in memory\n",
    "        They are stored in the generator\n",
    "        \"\"\"\n",
    "\n",
    "    count = 0\n",
    "    for value in input_generator:\n",
    "        if count < max_count:\n",
    "            yield value\n",
    "            count += 1\n",
    "        else:\n",
    "            break\n",
    "\n",
    "# Example usage:\n",
    "generator = (i for i in range(10))\n",
    "for value in limit(5, generator):\n",
    "    print(value)\n",
    "\n"
   ]
  },
  {
   "cell_type": "markdown",
   "metadata": {},
   "source": [
    "## Task 6"
   ]
  },
  {
   "cell_type": "markdown",
   "metadata": {},
   "source": [
    "Write a generator for an infinite sequence of numbers from the Pascal's triangle. The sequence look like this: `1 1 1 1 2 1 1 3 3 1 1 4 6 4 1 1 5 10 10 5 1 1 6 15 20 15 6 1 1 7 21 35 35 21 7 1 1 8 28 56 70 56 28 8 1 1 9 36 84 126 126 84 36 9 1 ... '\n",
    "\n",
    "Test it with a generator from the previous task"
   ]
  },
  {
   "cell_type": "code",
   "execution_count": 17,
   "metadata": {},
   "outputs": [],
   "source": [
    "\n",
    "\n",
    "def pascals_triangle():\n",
    "    \"\"\"\n",
    "        Generates an infinite sequence of numbers from Pascal's triangle.\n",
    "        Pascal's triangle is a triangular array of the binomial coefficients.\n",
    "        This generator yields each number in the triangle row by row.\n",
    "        In the pascals_triangle function, yield is used to give out each number in the sequence one by one,\n",
    "        row by row of Pascal's triangle.\n",
    "        It makes Pascal's triangle one number at a time.\n",
    "        And because it uses yield, it can keep doing this indefinitely,\n",
    "        generating the next part of the triangle only when asked for,\n",
    "        This is perfect for pascal's triangle because eventhough you generate an infinite triangle,\n",
    "        it will not cause memory issues\n",
    "        \"\"\"\n",
    "\n",
    "    row = [1]\n",
    "    while True:\n",
    "        # Yield every element in the current row\n",
    "        for element in row:\n",
    "            yield element\n",
    "        # Prepare the next row\n",
    "        row = [x + y for x, y in zip([0]+row, row+[0])]\n",
    "\n",
    "def limit(max_count, input_generator):\n",
    "\n",
    "    count = 0\n",
    "    for value in input_generator:\n",
    "        if count < max_count:\n",
    "            yield value\n",
    "            count += 1\n",
    "        else:\n",
    "            break\n",
    "\n",
    "for value in limit(20, pascals_triangle()):\n",
    "    print(value, end=' ')\n"
   ]
  },
  {
   "cell_type": "markdown",
   "metadata": {},
   "source": [
    "## Task 7"
   ]
  },
  {
   "cell_type": "markdown",
   "metadata": {},
   "source": [
    "Write a `merge_sorter` generator that merges sorted sequences of integers.\n",
    "\n",
    "The generator takes an arbitrary number of arguments. The argument can be any iterable, including another generator. It is guaranteed that each argument is a sequence of integers, sorted in non-decreasing order."
   ]
  },
  {
   "cell_type": "code",
   "execution_count": 15,
   "metadata": {},
   "outputs": [],
   "source": [
    "def merge_sorter(*args):\n",
    "    \"\"\"\n",
    "        heapq.merge can merge multiple sorted inputs no matter what the input type is\n",
    "    \"\"\"\n",
    "\n",
    "    from heapq import merge\n",
    "\n",
    "    return merge(*args)\n",
    "\n",
    "\n",
    "sorted_list1 = [1, 3, 5]\n",
    "sorted_list2 = [2, 4, 6]\n",
    "sorted_generator = (x for x in range(7, 10))  # 7, 8, 9\n",
    "\n",
    "merged_sequence = merge_sorter(sorted_list1, sorted_list2, sorted_generator)\n",
    "\n",
    "merged_list = list(merged_sequence)\n",
    "print(merged_list)\n"
   ]
  },
  {
   "cell_type": "markdown",
   "metadata": {},
   "source": [
    "## Task 8"
   ]
  },
  {
   "cell_type": "markdown",
   "metadata": {},
   "source": [
    "Write the decorator proﬁler, which, when calling a function, will store in its attributes (not to be confused with arguments) the time of its execution (in seconds, it can be fractional) and the number of recursive calls that occurred during execution. Name the attributes `last_time_taken` and `calls`. It is forbidden to use global variables. The decorator must behave in a decent manner, that is, it must not overwrite the function's documentation.\n",
    "\n",
    "For tests write [Ackemann function](https://en.wikipedia.org/wiki/Ackermann_function)."
   ]
  },
  {
   "cell_type": "code",
   "execution_count": 16,
   "metadata": {},
   "outputs": [],
   "source": [
    "\n",
    "\n",
    "import time\n",
    "from functools import wraps\n",
    "\n",
    "def profiler(func):\n",
    "    \"\"\"\n",
    "        Decorates a function to profile its execution time and call count.\n",
    "        It measures the total number of calls, including recursive ones, and the execution time of non-recursive calls.\n",
    "        This is useful for performance analysis and debugging.\n",
    "        \"\"\"\n",
    "\n",
    "    @wraps(func)\n",
    "    def wrapper(*args, **kwargs):\n",
    "\n",
    "        if not hasattr(wrapper, 'depth'):\n",
    "            wrapper.depth = 0  # Recursion depth\n",
    "            wrapper.calls = 0  # Total calls including recursive ones\n",
    "            wrapper.non_recursive_calls = 0  # Non-recursive initial calls\n",
    "\n",
    "        wrapper.depth += 1\n",
    "        if wrapper.depth == 1:\n",
    "            wrapper.non_recursive_calls += 1\n",
    "            start = time.time()\n",
    "\n",
    "        wrapper.calls += 1\n",
    "        result = func(*args, **kwargs)\n",
    "\n",
    "        if wrapper.depth == 1:\n",
    "            end = time.time()\n",
    "            wrapper.last_time_taken = end - start\n",
    "\n",
    "        wrapper.depth -= 1\n",
    "        return result\n",
    "\n",
    "    wrapper.depth = 0  # Current recursion\n",
    "    wrapper.calls = 0  # Total number of calls\n",
    "    wrapper.last_time_taken = 0  # Time taken for the last non-recursive call\n",
    "    wrapper.non_recursive_calls = 0  # Number of non-recursive initial calls\n",
    "    return wrapper\n",
    "\n",
    "@profiler\n",
    "def ackermann(m: int, n: int) -> int:\n",
    "    \"\"\"\n",
    "        Computes the Ackermann function, a recursive mathematical function that is not primitive recursive.\n",
    "        It takes two non-negative integer arguments `m` and `n` and returns a single integer.\n",
    "        \"\"\"\n",
    "\n",
    "    if m == 0:\n",
    "        return n + 1\n",
    "    elif m > 0 and n == 0:\n",
    "        return ackermann(m - 1, 1)\n",
    "    else:\n",
    "        return ackermann(m - 1, ackermann(m, n - 1))\n",
    "\n",
    "# Example usage\n",
    "print(ackermann(2, 2))\n",
    "print(f\"Ackermann Function Calls (total, including recursive): {ackermann.calls}\")\n",
    "print(f\"Ackermann Function Non-Recursive Calls: {ackermann.non_recursive_calls}\")\n",
    "print(f\"Last Execution Time: {ackermann.last_time_taken:.6f} seconds\")\n",
    "\n"
   ]
  },
  {
   "cell_type": "markdown",
   "metadata": {},
   "source": []
  }
 ],
 "metadata": {
  "kernelspec": {
   "display_name": "Python 3",
   "language": "python",
   "name": "python3"
  },
  "language_info": {
   "codemirror_mode": {
    "name": "ipython",
    "version": 3
   },
   "file_extension": ".py",
   "mimetype": "text/x-python",
   "name": "python",
   "nbconvert_exporter": "python",
   "pygments_lexer": "ipython3",
   "version": "3.9.6"
  }
 },
 "nbformat": 4,
 "nbformat_minor": 2
}
