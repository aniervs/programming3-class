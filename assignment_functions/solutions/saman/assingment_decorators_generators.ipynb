{
 "cells": [
  {
   "cell_type": "markdown",
   "metadata": {},
   "source": [
    "In this assignment, you'll be working with functions, generators, and decorators."
   ]
  },
  {
   "cell_type": "markdown",
   "metadata": {},
   "source": [
    "## Instructions"
   ]
  },
  {
   "cell_type": "markdown",
   "metadata": {},
   "source": [
    "- Inside the solutions folder (`programming3-class/assignment_functions/solutions/`), create a folder with your name lowercase (for e.g., if your name is Anier, then your folder would be named `anier`).\n",
    "- Copy the given notebook inside the corresponding folder (in my case, I would have to copy it to `programming3-class/assignment_functions/solutions/anier/`) and solve the tasks.\n",
    "- Each of the tasks contains a line saying `raise NotImplementedError`. This is there in purpose. Once you've implemented a task, remove that line on that task.\n",
    "- Once you're done, make a PR with your commits."
   ]
  },
  {
   "cell_type": "markdown",
   "metadata": {},
   "source": [
    "## Task 1"
   ]
  },
  {
   "cell_type": "markdown",
   "metadata": {},
   "source": [
    "Write a function with documentation in a docstring (no need for a complicated documentation, just something very simple describing the function).\n",
    "- The function should contain all types of arguments (positional, positional with defaults, arbitrary args, keyword args, arbitrary keyword args)."
   ]
  },
  {
   "cell_type": "code",
   "execution_count": 236,
   "metadata": {},
   "outputs": [
    {
     "name": "stdout",
     "output_type": "stream",
     "text": [
      "the element with static type of int is 1\n",
      "the positional element is 2\n",
      "the positional element with default value is salam\n",
      "arbitrary args elements(1, 3, 5, 1)\n",
      "arbitrary kewords elements{'test_kword1': 4, 'test_kword2': 'sasds'}\n"
     ]
    }
   ],
   "source": [
    "\n",
    "def my_function(F_el:int,S_el,T_el=\"Third element\",*args,**kwargs):\n",
    "    print(f\"the element with static type of int is {F_el}\")\n",
    "    print(f\"the positional element is {S_el}\")\n",
    "    print(f\"the positional element with default value is {T_el}\")\n",
    "    print(f\"arbitrary args elements{args}\")\n",
    "    print(f\"arbitrary kewords elements{kwargs}\")\n",
    "    return \n",
    "    raise NotImplementedError\n",
    "my_function(1,2,\"salam\",1,3,5,1,test_kword1=4, test_kword2=\"sasds\")"
   ]
  },
  {
   "cell_type": "markdown",
   "metadata": {},
   "source": [
    "## Task 2"
   ]
  },
  {
   "cell_type": "markdown",
   "metadata": {},
   "source": [
    "A number is prime if it has 2 divisors exactly.\n",
    "\n",
    "The first few primes are: 2, 3, 5, 7, 11, ...\n",
    "\n",
    "\n",
    "\n",
    "Make a function that checks if a number is prime or not."
   ]
  },
  {
   "cell_type": "code",
   "execution_count": 198,
   "metadata": {},
   "outputs": [
    {
     "name": "stdout",
     "output_type": "stream",
     "text": [
      "1 False   2 True   3 True   4 False   5 True   6 False   7 True   8 False   9 False   10 False   11 True   12 False   13 True   14 False   15 False   16 False   17 True   18 False   19 True   20 False   21 False   22 False   23 True   24 False   25 False   26 False   27 False   28 False   29 True   "
     ]
    }
   ],
   "source": [
    "import math\n",
    "def is_prime(n: int) -> bool:\n",
    "    if (n<=1):\n",
    "        return False\n",
    "    for i in range(2,int(math.sqrt(n))+1): \n",
    "        if n%i==0:\n",
    "            return False\n",
    "    return True\n",
    "    raise NotImplementedError\n",
    "for i in range(1,30):\n",
    "    print(i,is_prime(i),end=\"   \")"
   ]
  },
  {
   "cell_type": "markdown",
   "metadata": {},
   "source": [
    "\n",
    "## Task 3"
   ]
  },
  {
   "cell_type": "markdown",
   "metadata": {},
   "source": [
    "Implement the following function according to the docstring provided.\n",
    "\n",
    "Read https://docs.python.org/3.11/library/inspect.html in order to see how to get each requested information."
   ]
  },
  {
   "cell_type": "code",
   "execution_count": null,
   "metadata": {},
   "outputs": [],
   "source": [
    "import inspect\n",
    "# not end yet\n",
    "def inspect_function(func):\n",
    "    \"\"\"\n",
    "    Takes another function as an argument (but not built-in) \n",
    "    and print the following data: ydvV\n",
    "    the name of the analyzed function, \n",
    "    the name of all the arguments it takes \n",
    "    and their types (positional, keyword, etc.)\n",
    "    \"\"\"\n",
    "    # your code here\n",
    "    print(\"Function name:\", func.__name__)\n",
    "    argspec = inspect.getfullargspec(func)\n",
    "    print(\"Arguments:\", argspec.args)\n",
    "    print(\"Varargs:\", argspec.varargs)\n",
    "    print(\"Keyword-only arguments:\", argspec.varkw)\n",
    "    print(\"Default values:\", argspec.defaults)\n",
    "    raise NotImplementedError"
   ]
  },
  {
   "cell_type": "code",
   "execution_count": null,
   "metadata": {},
   "outputs": [
    {
     "name": "stdout",
     "output_type": "stream",
     "text": [
      "salam\n",
      "__main__\n"
     ]
    },
    {
     "ename": "NotImplementedError",
     "evalue": "",
     "output_type": "error",
     "traceback": [
      "\u001b[1;31m---------------------------------------------------------------------------\u001b[0m",
      "\u001b[1;31mNotImplementedError\u001b[0m                       Traceback (most recent call last)",
      "Cell \u001b[1;32mIn[193], line 3\u001b[0m\n\u001b[0;32m      1\u001b[0m \u001b[39mdef\u001b[39;00m \u001b[39msalam\u001b[39m(bia:\u001b[39mint\u001b[39m):\n\u001b[0;32m      2\u001b[0m     bia\u001b[39m+\u001b[39m\u001b[39m=\u001b[39m\u001b[39m4\u001b[39m\n\u001b[1;32m----> 3\u001b[0m inspect_function(salam)\n",
      "Cell \u001b[1;32mIn[190], line 14\u001b[0m, in \u001b[0;36minspect_function\u001b[1;34m(func)\u001b[0m\n\u001b[0;32m     12\u001b[0m \u001b[39mprint\u001b[39m(func\u001b[39m.\u001b[39m\u001b[39m__name__\u001b[39m)\n\u001b[0;32m     13\u001b[0m \u001b[39mprint\u001b[39m (func\u001b[39m.\u001b[39m\u001b[39m__module__\u001b[39m)\n\u001b[1;32m---> 14\u001b[0m \u001b[39mraise\u001b[39;00m \u001b[39mNotImplementedError\u001b[39;00m\n",
      "\u001b[1;31mNotImplementedError\u001b[0m: "
     ]
    }
   ],
   "source": [
    "def salam(bia:int):\n",
    "    bia+=4\n",
    "inspect_function(salam)"
   ]
  },
  {
   "cell_type": "markdown",
   "metadata": {},
   "source": [
    "## Task 4"
   ]
  },
  {
   "cell_type": "markdown",
   "metadata": {},
   "source": [
    "The following function isn't working properly. \n",
    "Fix it so that it prints the current datetime with a message."
   ]
  },
  {
   "cell_type": "code",
   "execution_count": 7,
   "metadata": {},
   "outputs": [],
   "source": [
    "from datetime import datetime\n",
    "from time import sleep\n",
    " \n",
    "# wrong function\n",
    "def my_time_now(msg, dt=datetime.now()):\n",
    "    print(msg, dt)"
   ]
  },
  {
   "cell_type": "code",
   "execution_count": 9,
   "metadata": {},
   "outputs": [
    {
     "name": "stdout",
     "output_type": "stream",
     "text": [
      "The time is now:  2024-02-13 10:25:29.221644\n",
      "The time is now:  2024-02-13 10:25:30.224329\n",
      "The time is now:  2024-02-13 10:25:31.226217\n"
     ]
    }
   ],
   "source": [
    "# simple tests :)\n",
    "my_time_now('The time is now: ',datetime.now())\n",
    "sleep(1.)\n",
    "my_time_now('The time is now: ',datetime.now())\n",
    "sleep(1.)\n",
    "my_time_now('The time is now: ',datetime.now())"
   ]
  },
  {
   "cell_type": "markdown",
   "metadata": {},
   "source": [
    "## Task 5"
   ]
  },
  {
   "cell_type": "markdown",
   "metadata": {},
   "source": [
    "Make a function that returns at most `max_count` values of a given generator."
   ]
  },
  {
   "cell_type": "code",
   "execution_count": 172,
   "metadata": {},
   "outputs": [],
   "source": [
    "\n",
    "def limit(input_generator,max_count):    \n",
    "    \"\"\"\n",
    "    Generator that returns not more than max_count values of the input_generator.\n",
    "    \"\"\"\n",
    "    # your code here\n",
    "    k=next(input_generator)\n",
    "    if (k<=max_count):\n",
    "        yield k\n",
    "    return None\n",
    "    raise NotImplementedError\n",
    "def limit2(input_generator,max_count):    \n",
    "    x=(limit(i,max_count) for i in print_pas)\n",
    "    return x\n",
    "    raise NotImplementedError"
   ]
  },
  {
   "cell_type": "code",
   "execution_count": 173,
   "metadata": {},
   "outputs": [
    {
     "name": "stdout",
     "output_type": "stream",
     "text": [
      "1 1 1 1 2 1 1 3 3 1 1 4 6 4 1 1 5 10 10 5 1 1 6 15 20 15 6 1 1 7 21 35 35 21 7 1 1 8 28 56 70 56 28 8 1 1 9 36 84 "
     ]
    },
    {
     "ename": "StopIteration",
     "evalue": "",
     "output_type": "error",
     "traceback": [
      "\u001b[1;31m---------------------------------------------------------------------------\u001b[0m",
      "\u001b[1;31mStopIteration\u001b[0m                             Traceback (most recent call last)",
      "Cell \u001b[1;32mIn[173], line 4\u001b[0m\n\u001b[0;32m      2\u001b[0m x\u001b[39m=\u001b[39mlimit2(print_pas,\u001b[39m100\u001b[39m)\n\u001b[0;32m      3\u001b[0m \u001b[39mfor\u001b[39;00m i \u001b[39min\u001b[39;00m x :\n\u001b[1;32m----> 4\u001b[0m   \u001b[39mprint\u001b[39m(\u001b[39mint\u001b[39m(\u001b[39mnext\u001b[39m(i)),end\u001b[39m=\u001b[39m\u001b[39m\"\u001b[39m\u001b[39m \u001b[39m\u001b[39m\"\u001b[39m)\n\u001b[0;32m      5\u001b[0m \u001b[39m#for num in print_pas:\u001b[39;00m\n\u001b[0;32m      6\u001b[0m   \u001b[39m#print(int(next(num)),end=\" \")\u001b[39;00m\n",
      "\u001b[1;31mStopIteration\u001b[0m: "
     ]
    }
   ],
   "source": [
    "print_pas=(pascal_tri(i,k) for i in range(0,10) for k in range(0,i+1))\n",
    "x=limit2(print_pas,100)\n",
    "for i in x :\n",
    "  print(int(next(i)),end=\" \")\n"
   ]
  },
  {
   "cell_type": "markdown",
   "metadata": {},
   "source": [
    "## Task 6"
   ]
  },
  {
   "cell_type": "markdown",
   "metadata": {},
   "source": [
    "Write a generator for an infinite sequence of numbers from the Pascal's triangle. The sequence look like this: `1 1 1 1 2 1 1 3 3 1 1 4 6 4 1 1 5 10 10 5 1 1 6 15 20 15 6 1 1 7 21 35 35 21 7 1 1 8 28 56 70 56 28 8 1 1 9 36 84 126 126 84 36 9 1 ... '\n",
    "\n",
    "Test it with a generator from the previous task"
   ]
  },
  {
   "cell_type": "code",
   "execution_count": 82,
   "metadata": {},
   "outputs": [],
   "source": [
    "# your code here\n",
    "def pascal_tri(n:int, k:int):\n",
    "    ans=1 \n",
    "    for i in range (0,n+1): \n",
    "        if (i==k):\n",
    "            yield ans\n",
    "        ans*=(n-i)\n",
    "        ans/=(i+1)\n",
    "    raise NotImplementedError"
   ]
  },
  {
   "cell_type": "code",
   "execution_count": 174,
   "metadata": {},
   "outputs": [
    {
     "name": "stdout",
     "output_type": "stream",
     "text": [
      "1 1 1 1 2 1 1 3 3 1 1 4 6 4 1 1 5 10 10 5 1 1 6 15 20 15 6 1 1 7 21 35 35 21 7 1 1 8 28 56 70 56 28 8 1 1 9 36 84 "
     ]
    },
    {
     "ename": "StopIteration",
     "evalue": "",
     "output_type": "error",
     "traceback": [
      "\u001b[1;31m---------------------------------------------------------------------------\u001b[0m",
      "\u001b[1;31mStopIteration\u001b[0m                             Traceback (most recent call last)",
      "Cell \u001b[1;32mIn[174], line 4\u001b[0m\n\u001b[0;32m      2\u001b[0m x\u001b[39m=\u001b[39mlimit2(print_pas,\u001b[39m100\u001b[39m)\n\u001b[0;32m      3\u001b[0m \u001b[39mfor\u001b[39;00m num \u001b[39min\u001b[39;00m x :\n\u001b[1;32m----> 4\u001b[0m   \u001b[39mprint\u001b[39m(\u001b[39mint\u001b[39m(\u001b[39mnext\u001b[39m(num)),end\u001b[39m=\u001b[39m\u001b[39m\"\u001b[39m\u001b[39m \u001b[39m\u001b[39m\"\u001b[39m)\n",
      "\u001b[1;31mStopIteration\u001b[0m: "
     ]
    }
   ],
   "source": [
    "print_pas=(pascal_tri(i,k) for i in range(0,10) for k in range(0,i+1))\n",
    "x=limit2(print_pas,100)\n",
    "for num in x :\n",
    "  print(int(next(num)),end=\" \")"
   ]
  },
  {
   "cell_type": "markdown",
   "metadata": {},
   "source": [
    "## Task 7"
   ]
  },
  {
   "cell_type": "markdown",
   "metadata": {},
   "source": [
    "Write a `merge_sorter` generator that merges sorted sequences of integers.\n",
    "\n",
    "The generator takes an arbitrary number of arguments. The argument can be any iterable, including another generator. It is guaranteed that each argument is a sequence of integers, sorted in non-decreasing order."
   ]
  },
  {
   "cell_type": "code",
   "execution_count": 68,
   "metadata": {},
   "outputs": [],
   "source": [
    "def MakeANewList (arr1:list,arr2:list)->list: \n",
    "    newlist=[]\n",
    "    while (len(arr1)>0 or len(arr2)>0):\n",
    "        if (len(arr1)==0):\n",
    "            newlist.extend(arr2)\n",
    "            break\n",
    "        if (len(arr2)==0):\n",
    "            newlist.extend(arr1)\n",
    "            break\n",
    "        if (arr1[0]<=arr2[0]):\n",
    "            newlist.append(arr1[0])\n",
    "            del arr1[0]\n",
    "        else:\n",
    "            newlist.append(arr2[0])\n",
    "            del arr2[0]\n",
    "    return newlist\n",
    "def merge_sorter(*args):\n",
    "    result_list=[]\n",
    "    for i in range(len(args)):\n",
    "        result_list=MakeANewList(args[i],result_list).copy()\n",
    "    return result_list\n",
    "    raise NotImplementedError"
   ]
  },
  {
   "cell_type": "code",
   "execution_count": 69,
   "metadata": {},
   "outputs": [
    {
     "data": {
      "text/plain": [
       "[1, 1, 2, 2, 3, 3, 10, 10, 11, 12, 15]"
      ]
     },
     "execution_count": 69,
     "metadata": {},
     "output_type": "execute_result"
    }
   ],
   "source": [
    "merge_sorter([1,2,3,12],[10,10,11],[1,2,3,15])"
   ]
  },
  {
   "cell_type": "markdown",
   "metadata": {},
   "source": [
    "## Task 8"
   ]
  },
  {
   "cell_type": "markdown",
   "metadata": {},
   "source": [
    "Write the decorator proﬁler, which, when calling a function, will store in its attributes (not to be confused with arguments) the time of its execution (in seconds, it can be fractional) and the number of recursive calls that occurred during execution. Name the attributes `last_time_taken` and `calls`. It is forbidden to use global variables. The decorator must behave in a decent manner, that is, it must not overwrite the function's documentation.\n",
    "\n",
    "For tests write [Ackemann function](https://en.wikipedia.org/wiki/Ackermann_function)."
   ]
  },
  {
   "cell_type": "code",
   "execution_count": null,
   "metadata": {},
   "outputs": [],
   "source": [
    "import time\n",
    "\n",
    "def profiler(func):\n",
    "    def wrapper(*args, **kwargs):\n",
    "        if not hasattr(func, 'last_time_taken'):\n",
    "            func.last_time_taken = 0\n",
    "        if not hasattr(func, 'calls'):\n",
    "            func.calls = 0\n",
    "\n",
    "        start_time = time.time()\n",
    "        func.calls += 1\n",
    "        result = func(*args, **kwargs)\n",
    "        end_time = time.time()\n",
    "\n",
    "        func.last_time_taken = end_time - start_time\n",
    "\n",
    "        return result\n",
    "\n",
    "    return wrapper\n",
    "\n",
    "@profiler\n",
    "def ackermann(m, n):\n",
    "    if m == 0:\n",
    "        return n + 1\n",
    "    elif n == 0:\n",
    "        return ackermann(m - 1, 1)\n",
    "    else:\n",
    "        return ackermann(m - 1, ackermann(m, n - 1))\n",
    "\n",
    "\n",
    "m_value = 3\n",
    "n_value = 4\n",
    "result = ackermann(m_value, n_value)\n",
    "print(f\"Ackermann({m_value}, {n_value}) = {result}\")\n",
    "print(f\"Last time taken: {ackermann.last_time_taken} seconds\")\n",
    "print(f\"Number of calls: {ackermann.calls}\")\n"
   ]
  },
  {
   "cell_type": "markdown",
   "metadata": {},
   "source": []
  }
 ],
 "metadata": {
  "kernelspec": {
   "display_name": "Python 3",
   "language": "python",
   "name": "python3"
  },
  "language_info": {
   "codemirror_mode": {
    "name": "ipython",
    "version": 3
   },
   "file_extension": ".py",
   "mimetype": "text/x-python",
   "name": "python",
   "nbconvert_exporter": "python",
   "pygments_lexer": "ipython3",
   "version": "3.11.4"
  }
 },
 "nbformat": 4,
 "nbformat_minor": 2
}
