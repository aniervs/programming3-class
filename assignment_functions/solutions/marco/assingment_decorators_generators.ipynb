{
 "cells": [
  {
   "cell_type": "markdown",
   "metadata": {},
   "source": [
    "In this assignment, you'll be working with functions, generators, and decorators."
   ]
  },
  {
   "cell_type": "markdown",
   "metadata": {},
   "source": [
    "## Instructions"
   ]
  },
  {
   "cell_type": "markdown",
   "metadata": {},
   "source": [
    "- Inside the solutions folder (`programming3-class/assignment_functions/solutions/`), create a folder with your name lowercase (for e.g., if your name is Anier, then your folder would be named `anier`).\n",
    "- Copy the given notebook inside the corresponding folder (in my case, I would have to copy it to `programming3-class/assignment_functions/solutions/anier/`) and solve the tasks.\n",
    "- Each of the tasks contains a line saying `raise NotImplementedError`. This is there in purpose. Once you've implemented a task, remove that line on that task.\n",
    "- Once you're done, make a PR with your commits."
   ]
  },
  {
   "cell_type": "markdown",
   "metadata": {},
   "source": [
    "## Task 1"
   ]
  },
  {
   "cell_type": "markdown",
   "metadata": {},
   "source": [
    "Write a function with documentation in a docstring (no need for a complicated documentation, just something very simple describing the function).\n",
    "- The function should contain all types of arguments (positional, positional with defaults, arbitrary args, keyword args, arbitrary keyword args)."
   ]
  },
  {
   "cell_type": "code",
   "execution_count": 8,
   "metadata": {},
   "outputs": [],
   "source": [
    "def my_function(name, x = 1, *args, **kwargs):\n",
    "    \"\"\"\n",
    "    my function is a very cool function that raises a NotImplementedError\n",
    "    :param str name: a name variable that is unused\n",
    "    :param int x: the variable x is another variable that is unused, but by default it is 1\n",
    "    :param *args: These are the arbitrary args that also do nothing\n",
    "    :param **kwargs: Surprise! The keyword args also do nothing\n",
    "    \"\"\"\n",
    "    raise NotImplementedError\n",
    "    "
   ]
  },
  {
   "cell_type": "markdown",
   "metadata": {},
   "source": [
    "## Task 2"
   ]
  },
  {
   "cell_type": "markdown",
   "metadata": {},
   "source": [
    "A number is prime if it has 2 divisors exactly.\n",
    "\n",
    "The first few primes are: 2, 3, 5, 7, 11, ...\n",
    "\n",
    "\n",
    "\n",
    "Make a function that checks if a number is prime or not."
   ]
  },
  {
   "cell_type": "code",
   "execution_count": 1,
   "metadata": {},
   "outputs": [],
   "source": [
    "def is_prime(n: int) -> bool:\n",
    "    \"\"\"\n",
    "    Checks if n is prime or not\n",
    "    \"\"\"\n",
    "    if n <= 1:\n",
    "        return False\n",
    "    for i in range(2,n):\n",
    "        if i * i > n:\n",
    "            break\n",
    "        if n % i == 0:\n",
    "            return False\n",
    "    return True"
   ]
  },
  {
   "cell_type": "code",
   "execution_count": 3,
   "metadata": {},
   "outputs": [
    {
     "name": "stdout",
     "output_type": "stream",
     "text": [
      "False\n",
      "True\n",
      "True\n",
      "False\n"
     ]
    }
   ],
   "source": [
    "print(is_prime(1))\n",
    "print(is_prime(3))\n",
    "print(is_prime(5))\n",
    "print(is_prime(10))"
   ]
  },
  {
   "cell_type": "markdown",
   "metadata": {},
   "source": [
    "\n",
    "## Task 3"
   ]
  },
  {
   "cell_type": "markdown",
   "metadata": {},
   "source": [
    "Implement the following function according to the docstring provided.\n",
    "\n",
    "Read https://docs.python.org/3.11/library/inspect.html in order to see how to get each requested information."
   ]
  },
  {
   "cell_type": "code",
   "execution_count": 32,
   "metadata": {},
   "outputs": [
    {
     "name": "stdout",
     "output_type": "stream",
     "text": [
      "is_prime\n",
      "n POSITIONAL_OR_KEYWORD\n"
     ]
    }
   ],
   "source": [
    "import inspect\n",
    "from inspect import signature\n",
    "\n",
    "def inspect_function(func):\n",
    "    \"\"\"\n",
    "    Takes another function as an argument (but not built-in) \n",
    "    and print the following data: \n",
    "    the name of the analyzed function, \n",
    "    the name of all the arguments it takes \n",
    "    and their types (positional, keyword, etc.)\n",
    "    \"\"\"\n",
    "    for val in inspect.getmembers(func):\n",
    "        if val[0] == \"__name__\":\n",
    "            print(val[1])\n",
    "    sig = signature(func)\n",
    "    for par_name in sig.parameters:\n",
    "        par = sig.parameters[par_name]\n",
    "        print(par_name, par.kind)\n",
    "\n",
    "inspect_function(is_prime)"
   ]
  },
  {
   "cell_type": "markdown",
   "metadata": {},
   "source": [
    "## Task 4"
   ]
  },
  {
   "cell_type": "markdown",
   "metadata": {},
   "source": [
    "The following function isn't working properly. \n",
    "Fix it so that it prints the current datetime with a message."
   ]
  },
  {
   "cell_type": "code",
   "execution_count": 33,
   "metadata": {},
   "outputs": [],
   "source": [
    "from datetime import datetime\n",
    "from time import sleep\n",
    " \n",
    "# wrong function\n",
    "def my_time_now(msg, *, dt=None):\n",
    "    if dt == None:\n",
    "        dt = datetime.now()\n",
    "    print(msg, dt)"
   ]
  },
  {
   "cell_type": "code",
   "execution_count": 34,
   "metadata": {},
   "outputs": [
    {
     "name": "stdout",
     "output_type": "stream",
     "text": [
      "The time is now:  2024-02-06 13:24:39.937648\n",
      "The time is now:  2024-02-06 13:24:40.939253\n",
      "The time is now:  2024-02-06 13:24:41.940757\n"
     ]
    }
   ],
   "source": [
    "# simple tests :)\n",
    "my_time_now('The time is now: ')\n",
    "sleep(1)\n",
    "my_time_now('The time is now: ')\n",
    "sleep(1)\n",
    "my_time_now('The time is now: ')"
   ]
  },
  {
   "cell_type": "markdown",
   "metadata": {},
   "source": [
    "## Task 5"
   ]
  },
  {
   "cell_type": "markdown",
   "metadata": {},
   "source": [
    "Make a function that returns at most `max_count` values of a given generator."
   ]
  },
  {
   "cell_type": "code",
   "execution_count": 40,
   "metadata": {},
   "outputs": [
    {
     "name": "stdout",
     "output_type": "stream",
     "text": [
      "[0, 1, 2, 3]\n"
     ]
    }
   ],
   "source": [
    "def limit(input_generator, max_count):    \n",
    "    \"\"\"\n",
    "    Generator that returns not more than max_count values of the input_generator.\n",
    "    \"\"\"\n",
    "    result = []\n",
    "    for i in range(max_count):\n",
    "        try:\n",
    "            result.append(next(input_generator))\n",
    "        except StopIteration:\n",
    "            break\n",
    "    return result"
   ]
  },
  {
   "cell_type": "code",
   "execution_count": 41,
   "metadata": {},
   "outputs": [
    {
     "name": "stdout",
     "output_type": "stream",
     "text": [
      "[0, 1, 2, 3]\n"
     ]
    }
   ],
   "source": [
    "def f(x):\n",
    "    for i in range(x):\n",
    "        yield i\n",
    "\n",
    "print(limit(f(10), 4))"
   ]
  },
  {
   "cell_type": "markdown",
   "metadata": {},
   "source": [
    "## Task 6"
   ]
  },
  {
   "cell_type": "markdown",
   "metadata": {},
   "source": [
    "Write a generator for an infinite sequence of numbers from the Pascal's triangle. The sequence look like this: `1 1 1 1 2 1 1 3 3 1 1 4 6 4 1 1 5 10 10 5 1 1 6 15 20 15 6 1 1 7 21 35 35 21 7 1 1 8 28 56 70 56 28 8 1 1 9 36 84 126 126 84 36 9 1 ... '\n",
    "\n",
    "Test it with a generator from the previous task"
   ]
  },
  {
   "cell_type": "code",
   "execution_count": 42,
   "metadata": {},
   "outputs": [],
   "source": [
    "# your code here\n",
    "def pascals_triangle():\n",
    "    prev_row = []\n",
    "    next_row = [1]\n",
    "    while True:\n",
    "        for x in next_row:\n",
    "            yield x\n",
    "        prev_row = next_row\n",
    "        next_row = [1]\n",
    "        for i in range(len(prev_row)-1):\n",
    "            next_row.append(prev_row[i] + prev_row[i+1])\n",
    "        next_row.append(1)"
   ]
  },
  {
   "cell_type": "code",
   "execution_count": 47,
   "metadata": {},
   "outputs": [
    {
     "name": "stdout",
     "output_type": "stream",
     "text": [
      "[1, 1, 1, 1, 2, 1, 1, 3, 3, 1, 1, 4, 6, 4, 1, 1, 5, 10, 10, 5, 1, 1, 6, 15, 20, 15, 6, 1, 1, 7, 21, 35, 35, 21, 7, 1, 1, 8, 28, 56, 70, 56, 28, 8, 1, 1, 9, 36, 84, 126, 126, 84, 36, 9, 1, 1, 10, 45, 120, 210, 252, 210, 120, 45, 10, 1, 1, 11, 55, 165]\n"
     ]
    }
   ],
   "source": [
    "print(limit(pascals_triangle(), 70))"
   ]
  },
  {
   "cell_type": "markdown",
   "metadata": {},
   "source": [
    "## Task 7"
   ]
  },
  {
   "cell_type": "markdown",
   "metadata": {},
   "source": [
    "Write a `merge_sorter` generator that merges sorted sequences of integers.\n",
    "\n",
    "The generator takes an arbitrary number of arguments. The argument can be any iterable, including another generator. It is guaranteed that each argument is a sequence of integers, sorted in non-decreasing order."
   ]
  },
  {
   "cell_type": "code",
   "execution_count": 17,
   "metadata": {},
   "outputs": [],
   "source": [
    "def merge_sorter(*args):\n",
    "    if len(args) == 0:\n",
    "        return\n",
    "    if len(args) == 1:\n",
    "        for x in args[0]:\n",
    "            yield x\n",
    "        return\n",
    "    if len(args) == 2:\n",
    "        a_iter = iter(args[0])\n",
    "        b_iter = iter(args[1])\n",
    "        try:\n",
    "            a = next(a_iter)\n",
    "            b = next(b_iter)\n",
    "            while True:\n",
    "                if a < b:\n",
    "                    yield a\n",
    "                    a = next(a_iter)\n",
    "                else:\n",
    "                    yield b\n",
    "                    b = next(b_iter)\n",
    "        except:\n",
    "            for x in a_iter:\n",
    "                yield x\n",
    "            for x in b_iter:\n",
    "                yield x\n",
    "        return\n",
    "    m = len(args)//2\n",
    "    for x in merge_sorter(merge_sorter(*args[:m]), merge_sorter(*args[m:])):\n",
    "        yield x"
   ]
  },
  {
   "cell_type": "code",
   "execution_count": 18,
   "metadata": {},
   "outputs": [
    {
     "name": "stdout",
     "output_type": "stream",
     "text": [
      "[1, 1, 1, 2, 2, 2, 3, 4, 5, 6, 8, 8, 120]\n"
     ]
    }
   ],
   "source": [
    "print(list(merge_sorter([1, 2, 3, 5, 8], [1, 2, 4, 8, 16], [1, 2, 6, 24, 120])))"
   ]
  },
  {
   "cell_type": "markdown",
   "metadata": {},
   "source": [
    "## Task 8"
   ]
  },
  {
   "cell_type": "markdown",
   "metadata": {},
   "source": [
    "Write the decorator proﬁler, which, when calling a function, will store in its attributes (not to be confused with arguments) the time of its execution (in seconds, it can be fractional) and the number of recursive calls that occurred during execution. Name the attributes `last_time_taken` and `calls`. It is forbidden to use global variables. The decorator must behave in a decent manner, that is, it must not overwrite the function's documentation.\n",
    "\n",
    "For tests write [Ackemann function](https://en.wikipedia.org/wiki/Ackermann_function)."
   ]
  },
  {
   "cell_type": "code",
   "execution_count": 1,
   "metadata": {},
   "outputs": [],
   "source": [
    "from datetime import datetime\n",
    "import sys\n",
    "\n",
    "sys.setrecursionlimit(100000)\n",
    "\n",
    "def profiler(func):\n",
    "    def wrapper(*args):\n",
    "        before = datetime.now()\n",
    "        res = func(*args)\n",
    "        after = datetime.now()\n",
    "        wrapper.last_time_taken = after - before\n",
    "        wrapper.calls += 1\n",
    "        return res\n",
    "    wrapper.calls = 0\n",
    "    return wrapper\n",
    "\n",
    "@profiler\n",
    "def ackermann(n: int, m: int) -> int:\n",
    "    if n == 0:\n",
    "        return m + 1\n",
    "    if m == 0:\n",
    "        return ackermann(n - 1, 1)\n",
    "    return ackermann(n - 1, ackermann(n, m - 1))"
   ]
  },
  {
   "cell_type": "code",
   "execution_count": 3,
   "metadata": {},
   "outputs": [
    {
     "name": "stdout",
     "output_type": "stream",
     "text": [
      "0:19:48.337081\n",
      "44740763\n"
     ]
    }
   ],
   "source": [
    "ackermann(3, 10)\n",
    "print(ackermann.last_time_taken)\n",
    "print(ackermann.calls)"
   ]
  },
  {
   "cell_type": "markdown",
   "metadata": {},
   "source": []
  }
 ],
 "metadata": {
  "kernelspec": {
   "display_name": "Python 3 (ipykernel)",
   "language": "python",
   "name": "python3"
  },
  "language_info": {
   "codemirror_mode": {
    "name": "ipython",
    "version": 3
   },
   "file_extension": ".py",
   "mimetype": "text/x-python",
   "name": "python",
   "nbconvert_exporter": "python",
   "pygments_lexer": "ipython3",
   "version": "3.10.12"
  }
 },
 "nbformat": 4,
 "nbformat_minor": 2
}
