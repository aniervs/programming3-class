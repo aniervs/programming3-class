{
 "cells": [
  {
   "cell_type": "markdown",
   "metadata": {},
   "source": [
    "In this assignment, you'll be working with functions, generators, and decorators."
   ]
  },
  {
   "cell_type": "markdown",
   "metadata": {},
   "source": [
    "## Instructions"
   ]
  },
  {
   "cell_type": "markdown",
   "metadata": {},
   "source": [
    "- Inside the solutions folder (`programming3-class/assignment_functions/solutions/`), create a folder with your name lowercase (for e.g., if your name is Anier, then your folder would be named `anier`).\n",
    "- Copy the given notebook inside the corresponding folder (in my case, I would have to copy it to `programming3-class/assignment_functions/solutions/anier/`) and solve the tasks.\n",
    "- Each of the tasks contains a line saying `raise NotImplementedError`. This is there in purpose. Once you've implemented a task, remove that line on that task.\n",
    "- Once you're done, make a PR with your commits."
   ]
  },
  {
   "cell_type": "markdown",
   "metadata": {},
   "source": [
    "## Task 1"
   ]
  },
  {
   "cell_type": "markdown",
   "metadata": {},
   "source": [
    "Write a function with documentation in a docstring (no need for a complicated documentation, just something very simple describing the function).\n",
    "- The function should contain all types of arguments (positional, positional with defaults, arbitrary args, keyword args, arbitrary keyword args)."
   ]
  },
  {
   "cell_type": "code",
   "execution_count": 16,
   "metadata": {
    "ExecuteTime": {
     "end_time": "2024-02-26T04:47:48.431504300Z",
     "start_time": "2024-02-26T04:47:48.424260400Z"
    }
   },
   "outputs": [
    {
     "name": "stdout",
     "output_type": "stream",
     "text": [
      "Mandatory positional argument: 1\n",
      "Additional positional arguments (*extra_params): (2, 3)\n",
      "Optional positional argument: 5\n",
      "Additional keyword arguments (**extra_kwargs): {'key1': 'value1', 'key2': 'value2'}\n"
     ]
    }
   ],
   "source": [
    "def custom_function(mandatory_param, *extra_params, optional_param=10, **extra_kwargs):\n",
    "    \"\"\"\n",
    "    Demonstrates different types of function arguments:\n",
    "\n",
    "    Parameters:\n",
    "    - mandatory_param: A required positional argument.\n",
    "    - *extra_params: Additional positional arguments gathered as a tuple.\n",
    "    - optional_param: An optional positional argument with a default value of 10.\n",
    "    - **extra_kwargs: Additional keyword arguments gathered as a dictionary.\n",
    "    \"\"\"\n",
    "    print(\"Mandatory positional argument:\", mandatory_param)\n",
    "    print(\"Additional positional arguments (*extra_params):\", extra_params)\n",
    "    print(\"Optional positional argument:\", optional_param)\n",
    "    print(\"Additional keyword arguments (**extra_kwargs):\", extra_kwargs)\n",
    "\n",
    "# Example usage:\n",
    "custom_function(1, 2, 3, optional_param=5, key1='value1', key2='value2')\n"
   ]
  },
  {
   "cell_type": "markdown",
   "metadata": {},
   "source": [
    "## Task 2"
   ]
  },
  {
   "cell_type": "markdown",
   "metadata": {},
   "source": [
    "A number is prime if it has 2 divisors exactly.\n",
    "\n",
    "The first few primes are: 2, 3, 5, 7, 11, ...\n",
    "\n",
    "\n",
    "\n",
    "Make a function that checks if a number is prime or not."
   ]
  },
  {
   "cell_type": "code",
   "execution_count": 15,
   "metadata": {
    "ExecuteTime": {
     "end_time": "2024-02-26T04:47:42.676784500Z",
     "start_time": "2024-02-26T04:47:42.671351300Z"
    }
   },
   "outputs": [],
   "source": [
    "def is_prime(n: int) -> bool:\n",
    "    if n < 2:\n",
    "        return False\n",
    "    if n == 2:\n",
    "        return True\n",
    "    if n % 2 == 0:\n",
    "        return False\n",
    "    for i in range(3, int(n**0.5) + 1, 2):\n",
    "        if n % i == 0:\n",
    "            return False\n",
    "    return True\n"
   ]
  },
  {
   "cell_type": "markdown",
   "metadata": {},
   "source": [
    "\n",
    "## Task 3"
   ]
  },
  {
   "cell_type": "markdown",
   "metadata": {},
   "source": [
    "Implement the following function according to the docstring provided.\n",
    "\n",
    "Read https://docs.python.org/3.11/library/inspect.html in order to see how to get each requested information."
   ]
  },
  {
   "cell_type": "code",
   "execution_count": 14,
   "metadata": {
    "ExecuteTime": {
     "end_time": "2024-02-26T04:47:36.659350600Z",
     "start_time": "2024-02-26T04:47:36.651888900Z"
    }
   },
   "outputs": [
    {
     "name": "stdout",
     "output_type": "stream",
     "text": [
      "Function Name: example_function\n",
      "Parameter: pos_arg\n",
      "Parameter Type: POSITIONAL_OR_KEYWORD\n",
      "Parameter: kw_arg1\n",
      "Parameter Type: POSITIONAL_OR_KEYWORD\n",
      "Parameter: kw_arg2\n",
      "Parameter Type: POSITIONAL_OR_KEYWORD\n"
     ]
    }
   ],
   "source": [
    "import inspect\n",
    "\n",
    "def inspect_function(func):\n",
    "    \"\"\"\n",
    "    Takes another function as an argument (but not built-in)\n",
    "    and print the following data:\n",
    "    the name of the analyzed function,\n",
    "    the name of all the arguments it takes\n",
    "    and their types (positional, keyword, etc.)\n",
    "    \"\"\"\n",
    "    print(\"Function Name:\", func.__name__)\n",
    "\n",
    "    signature = inspect.signature(func)\n",
    "\n",
    "    for param_name, param in signature.parameters.items():\n",
    "        print(\"Parameter:\", param_name)\n",
    "        print(\"Parameter Type:\", param.kind)\n",
    "\n",
    "# Example usage:\n",
    "def example_function(pos_arg, kw_arg1, kw_arg2=\"default_value\"):\n",
    "    pass\n",
    "\n",
    "inspect_function(example_function)\n",
    "\n"
   ]
  },
  {
   "cell_type": "markdown",
   "metadata": {},
   "source": [
    "## Task 4"
   ]
  },
  {
   "cell_type": "markdown",
   "metadata": {},
   "source": [
    "The following function isn't working properly. \n",
    "Fix it so that it prints the current datetime with a message."
   ]
  },
  {
   "cell_type": "code",
   "execution_count": 4,
   "metadata": {},
   "outputs": [],
   "source": [
    "from datetime import datetime\n",
    "from time import sleep\n",
    "\n",
    "\n",
    "# wrong function\n",
    "def my_time_now(msg):\n",
    "    print(msg, datetime.now())\n"
   ]
  },
  {
   "cell_type": "code",
   "execution_count": 13,
   "metadata": {
    "ExecuteTime": {
     "end_time": "2024-02-26T04:47:32.550165300Z",
     "start_time": "2024-02-26T04:47:30.541611800Z"
    }
   },
   "outputs": [
    {
     "name": "stdout",
     "output_type": "stream",
     "text": [
      "The time is now:  2024-02-26 05:47:30.541611\n",
      "The time is now:  2024-02-26 05:47:31.543194\n",
      "The time is now:  2024-02-26 05:47:32.543605\n"
     ]
    }
   ],
   "source": [
    "# simple tests :)\n",
    "my_time_now('The time is now: ')\n",
    "sleep(1)\n",
    "my_time_now('The time is now: ')\n",
    "sleep(1)\n",
    "my_time_now('The time is now: ')"
   ]
  },
  {
   "cell_type": "markdown",
   "metadata": {},
   "source": [
    "## Task 5"
   ]
  },
  {
   "cell_type": "markdown",
   "metadata": {},
   "source": [
    "Make a function that returns at most `max_count` values of a given generator."
   ]
  },
  {
   "cell_type": "code",
   "execution_count": 25,
   "metadata": {
    "ExecuteTime": {
     "end_time": "2024-02-26T04:51:51.374429300Z",
     "start_time": "2024-02-26T04:51:51.363178700Z"
    }
   },
   "outputs": [
    {
     "name": "stdout",
     "output_type": "stream",
     "text": [
      "[0, 1, 2, 3, 4, 5, 6, 7, 8, 9]\n"
     ]
    }
   ],
   "source": [
    "def limit(input_generator, max_count):\n",
    "    \"\"\"\n",
    "    Generator that returns not more than max_count values of the input_generator.\n",
    "    \"\"\"\n",
    "    count = 0\n",
    "    for value in input_generator:\n",
    "        if count >= max_count:\n",
    "            break\n",
    "        yield value\n",
    "        count += 1\n",
    "def generator():\n",
    "    for i in range(100):\n",
    "        yield i\n",
    "\n",
    "limited_values = list(limit(generator(), 10))\n",
    "print(limited_values)"
   ]
  },
  {
   "cell_type": "markdown",
   "metadata": {},
   "source": [
    "## Task 6"
   ]
  },
  {
   "cell_type": "markdown",
   "metadata": {},
   "source": [
    "Write a generator for an infinite sequence of numbers from the Pascal's triangle. The sequence look like this: `1 1 1 1 2 1 1 3 3 1 1 4 6 4 1 1 5 10 10 5 1 1 6 15 20 15 6 1 1 7 21 35 35 21 7 1 1 8 28 56 70 56 28 8 1 1 9 36 84 126 126 84 36 9 1 ... '\n",
    "\n",
    "Test it with a generator from the previous task"
   ]
  },
  {
   "cell_type": "code",
   "execution_count": 24,
   "metadata": {
    "ExecuteTime": {
     "end_time": "2024-02-26T04:51:27.520055500Z",
     "start_time": "2024-02-26T04:51:27.510572600Z"
    }
   },
   "outputs": [
    {
     "data": {
      "text/plain": "[1, 1, 1, 1, 2, 1, 1, 3, 3, 1]"
     },
     "execution_count": 24,
     "metadata": {},
     "output_type": "execute_result"
    }
   ],
   "source": [
    "def pascals_triangle():\n",
    "    row = [1]\n",
    "    while True:\n",
    "        for num in row:\n",
    "            yield num\n",
    "        row = [1] + [row[i] + row[i + 1] for i in range(len(row) - 1)] + [1]\n",
    "\n",
    "list(limit(pascals_triangle(), 10))"
   ]
  },
  {
   "cell_type": "markdown",
   "metadata": {},
   "source": [
    "## Task 7"
   ]
  },
  {
   "cell_type": "markdown",
   "metadata": {},
   "source": [
    "Write a `merge_sorter` generator that merges sorted sequences of integers.\n",
    "\n",
    "The generator takes an arbitrary number of arguments. The argument can be any iterable, including another generator. It is guaranteed that each argument is a sequence of integers, sorted in non-decreasing order."
   ]
  },
  {
   "cell_type": "code",
   "execution_count": 26,
   "metadata": {
    "ExecuteTime": {
     "end_time": "2024-02-26T04:54:13.094261400Z",
     "start_time": "2024-02-26T04:54:13.085226400Z"
    }
   },
   "outputs": [
    {
     "name": "stdout",
     "output_type": "stream",
     "text": [
      "['0', '1', '2', '3', '3', '3', '4', '4', '5', '5', '6', '6', '7', '7', '8', '9', '10', '11']\n"
     ]
    }
   ],
   "source": [
    "def merge_sorter(*input_args):\n",
    "    iterators = [iter(i) for i in input_args]\n",
    "    values = [next(it) for it in iterators]\n",
    "    infinity = 9**99\n",
    "    while True:\n",
    "        if len(values) == 0:\n",
    "            break\n",
    "        min_val = min(values)\n",
    "        min_ind = values.index(min_val)\n",
    "        yield min_val\n",
    "\n",
    "        try:\n",
    "            values[min_ind] = next(iterators[min_ind])\n",
    "        except StopIteration:\n",
    "            del values[min_ind]\n",
    "            del iterators[min_ind]\n",
    "\n",
    "# Example usage:\n",
    "result_list = list(merge_sorter(['3'], '34567', (str(i) for i in range(10))))\n",
    "print(result_list)\n",
    "\n"
   ]
  },
  {
   "cell_type": "markdown",
   "metadata": {},
   "source": [
    "## Task 8"
   ]
  },
  {
   "cell_type": "markdown",
   "metadata": {},
   "source": [
    "Write the decorator proﬁler, which, when calling a function, will store in its attributes (not to be confused with arguments) the time of its execution (in seconds, it can be fractional) and the number of recursive calls that occurred during execution. Name the attributes `last_time_taken` and `calls`. It is forbidden to use global variables. The decorator must behave in a decent manner, that is, it must not overwrite the function's documentation.\n",
    "\n",
    "For tests write [Ackemann function](https://en.wikipedia.org/wiki/Ackermann_function)."
   ]
  },
  {
   "cell_type": "code",
   "execution_count": 28,
   "metadata": {
    "ExecuteTime": {
     "end_time": "2024-02-26T04:57:18.437348600Z",
     "start_time": "2024-02-26T04:57:18.428862100Z"
    }
   },
   "outputs": [
    {
     "name": "stdout",
     "output_type": "stream",
     "text": [
      "Time taken for the last call: 0.0 seconds\n",
      "Number of recursive calls: 4\n"
     ]
    }
   ],
   "source": [
    "import time\n",
    "import functools\n",
    "\n",
    "def custom_profiler(target_function):\n",
    "    @functools.wraps(target_function)\n",
    "    def profiling_wrapper(*args, **kwargs):\n",
    "        if not hasattr(profiling_wrapper, 'call_count'):\n",
    "            profiling_wrapper.call_count = 0\n",
    "        profiling_wrapper.call_count += 1\n",
    "        start_time = time.time()\n",
    "        result = target_function(*args, **kwargs)\n",
    "        end_time = time.time()\n",
    "        profiling_wrapper.last_time_taken = end_time - start_time\n",
    "        return result\n",
    "    return profiling_wrapper\n",
    "\n",
    "@custom_profiler\n",
    "def custom_ackermann(a, b):\n",
    "    if a == 0:\n",
    "        return b + 1\n",
    "    elif b == 0:\n",
    "        return custom_ackermann(a - 1, 1)\n",
    "    else:\n",
    "        return custom_ackermann(a - 1, custom_ackermann(a, b - 1))\n",
    "\n",
    "# Example usage:\n",
    "result = custom_ackermann(1, 1)\n",
    "\n",
    "print(f\"Time taken for the last call: {custom_ackermann.last_time_taken} seconds\")\n",
    "print(f\"Number of recursive calls: {custom_ackermann.call_count}\")\n"
   ]
  },
  {
   "cell_type": "markdown",
   "metadata": {},
   "source": []
  }
 ],
 "metadata": {
  "kernelspec": {
   "display_name": "Python 3 (ipykernel)",
   "language": "python",
   "name": "python3"
  },
  "language_info": {
   "codemirror_mode": {
    "name": "ipython",
    "version": 3
   },
   "file_extension": ".py",
   "mimetype": "text/x-python",
   "name": "python",
   "nbconvert_exporter": "python",
   "pygments_lexer": "ipython3",
   "version": "3.12.2"
  }
 },
 "nbformat": 4,
 "nbformat_minor": 4
}
