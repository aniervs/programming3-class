{
 "cells": [
  {
   "cell_type": "markdown",
   "metadata": {},
   "source": [
    "In this assignment, you'll be working with functions, generators, and decorators."
   ]
  },
  {
   "cell_type": "markdown",
   "metadata": {},
   "source": [
    "## Instructions"
   ]
  },
  {
   "cell_type": "markdown",
   "metadata": {},
   "source": [
    "- Inside the solutions folder (`programming3-class/assignment_functions/solutions/`), create a folder with your name lowercase (for e.g., if your name is Anier, then your folder would be named `anier`).\n",
    "- Copy the given notebook inside the corresponding folder (in my case, I would have to copy it to `programming3-class/assignment_functions/solutions/anier/`) and solve the tasks.\n",
    "- Each of the tasks contains a line saying `raise NotImplementedError`. This is there in purpose. Once you've implemented a task, remove that line on that task.\n",
    "- Once you're done, make a PR with your commits."
   ]
  },
  {
   "cell_type": "markdown",
   "metadata": {},
   "source": [
    "## Task 1"
   ]
  },
  {
   "cell_type": "markdown",
   "metadata": {},
   "source": [
    "Write a function with documentation in a docstring (no need for a complicated documentation, just something very simple describing the function).\n",
    "- The function should contain all types of arguments (positional, positional with defaults, arbitrary args, keyword args, arbitrary keyword args)."
   ]
  },
  {
   "cell_type": "code",
   "execution_count": 47,
   "metadata": {},
   "outputs": [
    {
     "name": "stdout",
     "output_type": "stream",
     "text": [
      "Passed non-arbitrary arguments: 1, 2, abc, fgh\n",
      "Passed arbitrary non-keyword arguments: True 67\n",
      "Passed arbitrary keyword arguments: \n",
      "kw1 = 5\n",
      "kw2 = 7\n",
      "kw3 = False\n"
     ]
    }
   ],
   "source": [
    "def my_function(a, b, c='default', *args, d, **kwargs):\n",
    "    \"\"\"\n",
    "    this function contains all types of arguments\n",
    "    \"\"\"\n",
    "    print(f'Passed non-arbitrary arguments: {a}, {b}, {c}, {d}')\n",
    "    print('Passed arbitrary non-keyword arguments:',*args)\n",
    "    print('Passed arbitrary keyword arguments: ')\n",
    "    for i, j in kwargs.items():\n",
    "        print(f'{i} = {j}')\n",
    "    \n",
    "    \n",
    "my_function(1, 2, 'abc', True, '67', kw1=5, kw2=7, kw3=False, d='fgh')"
   ]
  },
  {
   "cell_type": "markdown",
   "metadata": {},
   "source": [
    "## Task 2"
   ]
  },
  {
   "cell_type": "markdown",
   "metadata": {},
   "source": [
    "A number is prime if it has 2 divisors exactly.\n",
    "\n",
    "The first few primes are: 2, 3, 5, 7, 11, ...\n",
    "\n",
    "\n",
    "\n",
    "Make a function that checks if a number is prime or not."
   ]
  },
  {
   "cell_type": "code",
   "execution_count": 38,
   "metadata": {},
   "outputs": [
    {
     "name": "stdout",
     "output_type": "stream",
     "text": [
      "\n",
      "    Checks if n is prime or not\n",
      "    lol kek\n",
      "    \n"
     ]
    }
   ],
   "source": [
    "def is_prime(n: int) -> bool:\n",
    "    \"\"\"\n",
    "    Checks if n is prime or not\n",
    "    \"\"\"\n",
    "    if n < 2:\n",
    "        return False\n",
    "    i = 2\n",
    "    while i**2 <= n:\n",
    "        if n % i == 0:\n",
    "            return False\n",
    "        i += 1\n",
    "    return True\n",
    "\n",
    "assert is_prime(3), 'algo does not work'"
   ]
  },
  {
   "cell_type": "markdown",
   "metadata": {},
   "source": [
    "\n",
    "## Task 3"
   ]
  },
  {
   "cell_type": "markdown",
   "metadata": {},
   "source": [
    "Implement the following function according to the docstring provided.\n",
    "\n",
    "Read https://docs.python.org/3.11/library/inspect.html in order to see how to get each requested information."
   ]
  },
  {
   "cell_type": "code",
   "execution_count": 15,
   "metadata": {},
   "outputs": [
    {
     "name": "stdout",
     "output_type": "stream",
     "text": [
      "Name: some_func\n",
      "Names of arguments:\n",
      "b : POSITIONAL_OR_KEYWORD\n",
      "a : POSITIONAL_OR_KEYWORD\n",
      "args : VAR_POSITIONAL\n",
      "kwargs : VAR_KEYWORD\n"
     ]
    }
   ],
   "source": [
    "import inspect\n",
    "\n",
    "def inspect_function(func):\n",
    "    \"\"\"\n",
    "    Takes another function as an argument (but not built-in) \n",
    "    and print the following data: \n",
    "    the name of the analyzed function, \n",
    "    the name of all the arguments it takes \n",
    "    and their types (positional, keyword, etc.)\n",
    "    \"\"\"\n",
    "    if (inspect.isbuiltin(func)):\n",
    "        raise Exception(\"Built-in functions are forbidden.\")\n",
    "\n",
    "    print(f'Name: {func.__name__}\\nNames of arguments:')\n",
    "    args = inspect.signature(func).parameters.values()\n",
    "    for arg in args:\n",
    "        print(arg.name,':',arg.kind)    \n",
    "\n",
    "def some_func(b, a = 5, *args, **kwargs):\n",
    "    return a + b\n",
    "\n",
    "inspect_function(some_func)"
   ]
  },
  {
   "cell_type": "markdown",
   "metadata": {},
   "source": [
    "## Task 4"
   ]
  },
  {
   "cell_type": "markdown",
   "metadata": {},
   "source": [
    "The following function isn't working properly. \n",
    "Fix it so that it prints the current datetime with a message."
   ]
  },
  {
   "cell_type": "code",
   "execution_count": 86,
   "metadata": {},
   "outputs": [],
   "source": [
    "from datetime import datetime\n",
    "from time import sleep\n",
    "def my_time_now(msg, dt=datetime.now()):\n",
    "    dt = datetime.now()\n",
    "    print(msg, dt)"
   ]
  },
  {
   "cell_type": "code",
   "execution_count": 87,
   "metadata": {},
   "outputs": [
    {
     "name": "stdout",
     "output_type": "stream",
     "text": [
      "The time is now:  2024-02-07 17:00:21.091739\n"
     ]
    },
    {
     "name": "stdout",
     "output_type": "stream",
     "text": [
      "The time is now:  2024-02-07 17:00:22.093270\n",
      "The time is now:  2024-02-07 17:00:23.094160\n"
     ]
    }
   ],
   "source": [
    "# simple tests :)\n",
    "my_time_now('The time is now: ')\n",
    "sleep(1)\n",
    "my_time_now('The time is now: ')\n",
    "sleep(1)\n",
    "my_time_now('The time is now: ')"
   ]
  },
  {
   "cell_type": "markdown",
   "metadata": {},
   "source": [
    "## Task 5"
   ]
  },
  {
   "cell_type": "markdown",
   "metadata": {},
   "source": [
    "Make a function that returns at most `max_count` values of a given generator."
   ]
  },
  {
   "cell_type": "code",
   "execution_count": 88,
   "metadata": {},
   "outputs": [],
   "source": [
    "def limit(input_generator, max_count):    \n",
    "    \"\"\"\n",
    "    Generator that returns not more than max_count values of the input_generator.\n",
    "    \"\"\"\n",
    "    count = 0\n",
    "    for i in input_generator:\n",
    "        if count >= max_count:\n",
    "            break\n",
    "        count+=1\n",
    "        yield i\n",
    "\n",
    "assert list(limit(range(5), 3)) == [0, 1, 2], 'generator does not work properly'"
   ]
  },
  {
   "cell_type": "markdown",
   "metadata": {},
   "source": [
    "## Task 6"
   ]
  },
  {
   "cell_type": "markdown",
   "metadata": {},
   "source": [
    "Write a generator for an infinite sequence of numbers from the Pascal's triangle. The sequence look like this: `1 1 1 1 2 1 1 3 3 1 1 4 6 4 1 1 5 10 10 5 1 1 6 15 20 15 6 1 1 7 21 35 35 21 7 1 1 8 28 56 70 56 28 8 1 1 9 36 84 126 126 84 36 9 1 ... '\n",
    "\n",
    "Test it with a generator from the previous task"
   ]
  },
  {
   "cell_type": "code",
   "execution_count": 89,
   "metadata": {},
   "outputs": [
    {
     "name": "stdout",
     "output_type": "stream",
     "text": [
      "[1, 1, 1, 1, 2, 1, 1, 3, 3, 1, 1, 4, 6, 4, 1, 1, 5, 10, 10, 5]\n"
     ]
    }
   ],
   "source": [
    "# this code is not optimized, we could store previously calculated C(n,k) values, optimize factorial calculation, etc.\n",
    "# but I decided it's not necessary for this particular task\n",
    "# maybe there is a simpler way to generate new pascal triangle values but I decided to go the way I know\n",
    "\n",
    "def fact(n):\n",
    "    if n == 0:\n",
    "        return 1\n",
    "    return n * fact(n-1)\n",
    "\n",
    "def C(n,k):\n",
    "    assert n >= k, 'wrong parameters'\n",
    "    return (fact(n) // fact(k)) // fact(n-k)\n",
    "\n",
    "def generate_pascal():\n",
    "    n = 0\n",
    "    while True:\n",
    "        for k in range(n+1):\n",
    "            yield C(n,k)\n",
    "        n += 1\n",
    "\n",
    "print(list(limit(generate_pascal(), 20)))\n",
    "\n",
    "\n"
   ]
  },
  {
   "cell_type": "markdown",
   "metadata": {},
   "source": [
    "## Task 7"
   ]
  },
  {
   "cell_type": "markdown",
   "metadata": {},
   "source": [
    "Write a `merge_sorter` generator that merges sorted sequences of integers.\n",
    "\n",
    "The generator takes an arbitrary number of arguments. The argument can be any iterable, including another generator. It is guaranteed that each argument is a sequence of integers, sorted in non-decreasing order."
   ]
  },
  {
   "cell_type": "code",
   "execution_count": 90,
   "metadata": {},
   "outputs": [
    {
     "name": "stdout",
     "output_type": "stream",
     "text": [
      "['0', '1', '2', '3', '3', '3', '4', '4', '5', '5', '6', '6', '7', '7', '8', '9', '10', '11']\n"
     ]
    }
   ],
   "source": [
    "def merge_sorter(*args):\n",
    "    args = [iter(i) for i in args]\n",
    "    values = [next(i) for i in args]\n",
    "    infty = 9**99\n",
    "    while True:\n",
    "        if len(values) == 0:\n",
    "            break\n",
    "        min_val = min(values)\n",
    "        min_ind = values.index(min_val)\n",
    "        yield min_val\n",
    "\n",
    "        try:\n",
    "            values[min_ind] = next(args[min_ind])\n",
    "        except StopIteration:\n",
    "            del values[min_ind]\n",
    "            del args[min_ind]\n",
    "        \n",
    "\n",
    "print(list(merge_sorter(['3'], '34567', (str(i) for i in range(12)))))  "
   ]
  },
  {
   "cell_type": "markdown",
   "metadata": {},
   "source": [
    "## Task 8"
   ]
  },
  {
   "cell_type": "markdown",
   "metadata": {},
   "source": [
    "Write the decorator proﬁler, which, when calling a function, will store in its attributes (not to be confused with arguments) the time of its execution (in seconds, it can be fractional) and the number of recursive calls that occurred during execution. Name the attributes `last_time_taken` and `calls`. It is forbidden to use global variables. The decorator must behave in a decent manner, that is, it must not overwrite the function's documentation.\n",
    "\n",
    "For tests write [Ackemann function](https://en.wikipedia.org/wiki/Ackermann_function)."
   ]
  },
  {
   "cell_type": "code",
   "execution_count": 91,
   "metadata": {},
   "outputs": [
    {
     "name": "stdout",
     "output_type": "stream",
     "text": [
      "calls = 693964\n",
      "start time = 1707314423.1434653\n",
      "end time = 1707314423.7378933\n",
      "time taken = 0.5944280624389648\n",
      "1021\n"
     ]
    }
   ],
   "source": [
    "# I use KW argument 'skip' to make decorator track start and end time of the outer call of the function only\n",
    "\n",
    "import time\n",
    "import functools\n",
    "\n",
    "def profiler(func):\n",
    "    @functools.wraps(func)\n",
    "    def wrapper(*args, **kwargs):\n",
    "        wrapper.calls += 1\n",
    "        if kwargs.get(\"skip\") == False:\n",
    "            start_time = time.time()\n",
    "        result = func(*args, **kwargs)\n",
    "        if kwargs.get(\"skip\") == False:\n",
    "            end_time = time.time()\n",
    "            wrapper.last_time_taken = end_time - start_time\n",
    "            print(f'calls = {wrapper.calls}\\nstart time = {start_time}\\nend time = {end_time}\\ntime taken = {wrapper.last_time_taken}')\n",
    "        return result\n",
    "    wrapper.calls = 0\n",
    "    wrapper.last_time_taken = 0.0\n",
    "    return wrapper\n",
    "\n",
    "@profiler\n",
    "def ackermann(m: int, n: int, **kwargs) -> int:\n",
    "    if m == 0:\n",
    "        return n + 1\n",
    "    elif m > 0 and n == 0:\n",
    "        return ackermann(m - 1, 1)\n",
    "    else:\n",
    "        return ackermann(m - 1, ackermann(m, n - 1))\n",
    "    \n",
    "\n",
    "print(ackermann(3, 7, skip=False))"
   ]
  },
  {
   "cell_type": "markdown",
   "metadata": {},
   "source": []
  }
 ],
 "metadata": {
  "kernelspec": {
   "display_name": "Python 3",
   "language": "python",
   "name": "python3"
  },
  "language_info": {
   "codemirror_mode": {
    "name": "ipython",
    "version": 3
   },
   "file_extension": ".py",
   "mimetype": "text/x-python",
   "name": "python",
   "nbconvert_exporter": "python",
   "pygments_lexer": "ipython3",
   "version": "3.11.7"
  }
 },
 "nbformat": 4,
 "nbformat_minor": 2
}
