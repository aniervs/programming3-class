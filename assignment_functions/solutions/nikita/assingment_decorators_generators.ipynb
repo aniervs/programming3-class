{
  "cells": [
    {
      "cell_type": "markdown",
      "metadata": {
        "id": "WRoZlyKBEhV0"
      },
      "source": [
        "In this assignment, you'll be working with functions, generators, and decorators."
      ]
    },
    {
      "cell_type": "markdown",
      "metadata": {
        "id": "Y0xwe0-zEhV5"
      },
      "source": [
        "## Instructions"
      ]
    },
    {
      "cell_type": "markdown",
      "metadata": {
        "id": "vEtqAvddEhV5"
      },
      "source": [
        "- Inside the solutions folder (`programming3-class/assignment_functions/solutions/`), create a folder with your name lowercase (for e.g., if your name is Anier, then your folder would be named `anier`).\n",
        "- Copy the given notebook inside the corresponding folder (in my case, I would have to copy it to `programming3-class/assignment_functions/solutions/anier/`) and solve the tasks.\n",
        "- Each of the tasks contains a line saying `raise NotImplementedError`. This is there in purpose. Once you've implemented a task, remove that line on that task.\n",
        "- Once you're done, make a PR with your commits."
      ]
    },
    {
      "cell_type": "markdown",
      "metadata": {
        "id": "FQPrapaiEhV6"
      },
      "source": [
        "## Task 1"
      ]
    },
    {
      "cell_type": "markdown",
      "metadata": {
        "id": "zb47NhVlEhV7"
      },
      "source": [
        "Write a function with documentation in a docstring (no need for a complicated documentation, just something very simple describing the function).\n",
        "- The function should contain all types of arguments (positional, positional with defaults, arbitrary args, keyword args, arbitrary keyword args)."
      ]
    },
    {
      "cell_type": "code",
      "execution_count": 8,
      "metadata": {
        "colab": {
          "base_uri": "https://localhost:8080/"
        },
        "id": "KvKzXaanEhV7",
        "outputId": "a2bccfbc-3c58-4276-db3a-a405b84e3862"
      },
      "outputs": [
        {
          "output_type": "stream",
          "name": "stdout",
          "text": [
            "Positional argument: Hello\n",
            "Default argument: 123\n",
            "Arbitrary positional arguments: ()\n",
            "Arbitrary keyword arguments: {'additional_arg1': 'extra1', 'additional_arg2': 'extra2'}\n"
          ]
        }
      ],
      "source": [
        "def my_function(positional_arg, default_arg=42, *args, **kwargs):\n",
        "    print(\"Positional argument:\", positional_arg)\n",
        "    print(\"Default argument:\", default_arg)\n",
        "    print(\"Arbitrary positional arguments:\", args)\n",
        "    print(\"Arbitrary keyword arguments:\", kwargs)\n",
        "\n",
        "my_function(\"Hello\", default_arg=123, additional_arg1=\"extra1\", additional_arg2=\"extra2\")\n"
      ]
    },
    {
      "cell_type": "markdown",
      "metadata": {
        "id": "YqUKndLUEhV9"
      },
      "source": [
        "## Task 2"
      ]
    },
    {
      "cell_type": "markdown",
      "metadata": {
        "id": "Cbx3E3xgEhV-"
      },
      "source": [
        "A number is prime if it has 2 divisors exactly.\n",
        "\n",
        "The first few primes are: 2, 3, 5, 7, 11, ...\n",
        "\n",
        "\n",
        "\n",
        "Make a function that checks if a number is prime or not."
      ]
    },
    {
      "cell_type": "code",
      "execution_count": 5,
      "metadata": {
        "id": "4SeeRVgtEhV-"
      },
      "outputs": [],
      "source": [
        "def is_prime(n):\n",
        "    if n <= 1:\n",
        "        return False\n",
        "    elif n <= 3:\n",
        "        return True\n",
        "    elif n % 2 == 0 or n % 3 == 0:\n",
        "        return False\n",
        "    i = 5\n",
        "    while i * i <= n:\n",
        "        if n % i == 0 or n % (i + 2) == 0:\n",
        "            return False\n",
        "        i += 6\n",
        "    return True"
      ]
    },
    {
      "cell_type": "markdown",
      "metadata": {
        "id": "57RcOaFnEhV_"
      },
      "source": [
        "\n",
        "## Task 3"
      ]
    },
    {
      "cell_type": "markdown",
      "metadata": {
        "id": "FYFda5VsEhV_"
      },
      "source": [
        "Implement the following function according to the docstring provided.\n",
        "\n",
        "Read https://docs.python.org/3.11/library/inspect.html in order to see how to get each requested information."
      ]
    },
    {
      "cell_type": "code",
      "execution_count": 1,
      "metadata": {
        "colab": {
          "base_uri": "https://localhost:8080/"
        },
        "id": "p6ztK2-7EhWA",
        "outputId": "ba875952-f763-4ecd-9bbb-238cb356ea96"
      },
      "outputs": [
        {
          "output_type": "stream",
          "name": "stdout",
          "text": [
            "Function Name: example_function\n",
            "Parameter: a, Type: POSITIONAL_OR_KEYWORD\n",
            "Parameter: b, Type: POSITIONAL_OR_KEYWORD\n",
            "Parameter: args, Type: VAR_POSITIONAL\n",
            "Parameter: kwargs, Type: VAR_KEYWORD\n"
          ]
        }
      ],
      "source": [
        "import inspect\n",
        "\n",
        "def inspect_function(func):\n",
        "    print(f\"Function Name: {func.__name__}\")\n",
        "    signature = inspect.signature(func)\n",
        "    for param_name, param in signature.parameters.items():\n",
        "        print(f\"Parameter: {param_name}, Type: {param.kind.name}\")\n",
        "\n",
        "def example_function(a, b=10, *args, **kwargs):\n",
        "    pass\n",
        "\n",
        "inspect_function(example_function)"
      ]
    },
    {
      "cell_type": "markdown",
      "metadata": {
        "id": "cXvOj2RcEhWA"
      },
      "source": [
        "## Task 4"
      ]
    },
    {
      "cell_type": "markdown",
      "metadata": {
        "id": "ZF0LlrMKEhWA"
      },
      "source": [
        "The following function isn't working properly.\n",
        "Fix it so that it prints the current datetime with a message."
      ]
    },
    {
      "cell_type": "code",
      "execution_count": 11,
      "metadata": {
        "id": "Ac8FIUsaEhWB"
      },
      "outputs": [],
      "source": [
        "from datetime import datetime\n",
        "from time import sleep\n",
        "\n",
        "def my_time_now(msg, *, dt=None):\n",
        "    if dt is None:\n",
        "        dt = datetime.now()\n",
        "    print(msg, dt)"
      ]
    },
    {
      "cell_type": "code",
      "execution_count": 12,
      "metadata": {
        "colab": {
          "base_uri": "https://localhost:8080/"
        },
        "id": "trWO7eB7EhWB",
        "outputId": "f5f0b1bd-22b0-48de-f3cf-ba14b2e25205"
      },
      "outputs": [
        {
          "output_type": "stream",
          "name": "stdout",
          "text": [
            "The time is now:  2024-02-12 16:28:58.801898\n",
            "The time is now:  2024-02-12 16:28:59.804503\n",
            "The time is now:  2024-02-12 16:29:00.806980\n"
          ]
        }
      ],
      "source": [
        "# simple tests :)\n",
        "my_time_now('The time is now: ')\n",
        "sleep(1)\n",
        "my_time_now('The time is now: ')\n",
        "sleep(1)\n",
        "my_time_now('The time is now: ')"
      ]
    },
    {
      "cell_type": "markdown",
      "metadata": {
        "id": "mBqAgk7oEhWC"
      },
      "source": [
        "## Task 5"
      ]
    },
    {
      "cell_type": "markdown",
      "metadata": {
        "id": "IGAsYBf8EhWC"
      },
      "source": [
        "Make a function that returns at most `max_count` values of a given generator."
      ]
    },
    {
      "cell_type": "code",
      "execution_count": 2,
      "metadata": {
        "colab": {
          "base_uri": "https://localhost:8080/"
        },
        "id": "wg4VhllgEhWC",
        "outputId": "97710c29-71c0-4007-b148-70f0bbd0e2f6"
      },
      "outputs": [
        {
          "output_type": "stream",
          "name": "stdout",
          "text": [
            "[0, 1, 2, 3, 4]\n"
          ]
        }
      ],
      "source": [
        "def limit(input_generator, max_count):\n",
        "    count = 0\n",
        "    for value in input_generator:\n",
        "        if count < max_count:\n",
        "            yield value\n",
        "            count += 1\n",
        "        else:\n",
        "            break\n",
        "\n",
        "def my_generator():\n",
        "    for i in range(10):\n",
        "        yield i\n",
        "\n",
        "limited_values = limit(my_generator(), 5)\n",
        "print(list(limited_values))"
      ]
    },
    {
      "cell_type": "markdown",
      "metadata": {
        "id": "ozOrnUIvEhWD"
      },
      "source": [
        "## Task 6"
      ]
    },
    {
      "cell_type": "markdown",
      "metadata": {
        "id": "r2pwjbmuEhWD"
      },
      "source": [
        "Write a generator for an infinite sequence of numbers from the Pascal's triangle. The sequence look like this: `1 1 1 1 2 1 1 3 3 1 1 4 6 4 1 1 5 10 10 5 1 1 6 15 20 15 6 1 1 7 21 35 35 21 7 1 1 8 28 56 70 56 28 8 1 1 9 36 84 126 126 84 36 9 1 ... '\n",
        "\n",
        "Test it with a generator from the previous task"
      ]
    },
    {
      "cell_type": "code",
      "execution_count": 17,
      "metadata": {
        "colab": {
          "base_uri": "https://localhost:8080/"
        },
        "id": "tKcZ7u10EhWD",
        "outputId": "d91b02c1-601e-48e9-ec01-0ce128ea76d0"
      },
      "outputs": [
        {
          "output_type": "stream",
          "name": "stdout",
          "text": [
            "[1]\n",
            "[1, 1]\n",
            "[1, 2, 1]\n",
            "[1, 3, 3, 1]\n",
            "[1, 4, 6, 4, 1]\n",
            "[1, 5, 10, 10, 5, 1]\n",
            "[1, 6, 15, 20, 15, 6, 1]\n",
            "[1, 7, 21, 35, 35, 21, 7, 1]\n",
            "[1, 8, 28, 56, 70, 56, 28, 8, 1]\n",
            "[1, 9, 36, 84, 126, 126, 84, 36, 9, 1]\n",
            "[1, 10, 45, 120, 210, 252, 210, 120, 45, 10, 1]\n",
            "[1, 11, 55, 165, 330, 462, 462, 330, 165, 55, 11, 1]\n",
            "[1, 12, 66, 220, 495, 792, 924, 792, 495, 220, 66, 12, 1]\n",
            "[1, 13, 78, 286, 715, 1287, 1716, 1716, 1287, 715, 286, 78, 13, 1]\n",
            "[1, 14, 91, 364, 1001, 2002, 3003, 3432, 3003, 2002, 1001, 364, 91, 14, 1]\n",
            "[1, 15, 105, 455, 1365, 3003, 5005, 6435, 6435, 5005, 3003, 1365, 455, 105, 15, 1]\n",
            "[1, 16, 120, 560, 1820, 4368, 8008, 11440, 12870, 11440, 8008, 4368, 1820, 560, 120, 16, 1]\n",
            "[1, 17, 136, 680, 2380, 6188, 12376, 19448, 24310, 24310, 19448, 12376, 6188, 2380, 680, 136, 17, 1]\n",
            "[1, 18, 153, 816, 3060, 8568, 18564, 31824, 43758, 48620, 43758, 31824, 18564, 8568, 3060, 816, 153, 18, 1]\n",
            "[1, 19, 171, 969, 3876, 11628, 27132, 50388, 75582, 92378, 92378, 75582, 50388, 27132, 11628, 3876, 969, 171, 19, 1]\n"
          ]
        }
      ],
      "source": [
        "def generate_pascals_triangle():\n",
        "    row = [1]\n",
        "    while True:\n",
        "        yield row\n",
        "        row = [1] + [row[i] + row[i + 1] for i in range(len(row) - 1)] + [1]\n",
        "\n",
        "def limit(input_generator, max_count):\n",
        "    count = 0\n",
        "    for value in input_generator:\n",
        "        if count < max_count:\n",
        "            yield value\n",
        "            count += 1\n",
        "        else:\n",
        "            break\n",
        "\n",
        "pascals_triangle = generate_pascals_triangle()\n",
        "limited_values = limit(pascals_triangle, 20)\n",
        "for row in limited_values:\n",
        "    print(row)\n"
      ]
    },
    {
      "cell_type": "markdown",
      "metadata": {
        "id": "fvU7Pii7EhWD"
      },
      "source": [
        "## Task 7"
      ]
    },
    {
      "cell_type": "markdown",
      "metadata": {
        "id": "bv_e2HSMEhWD"
      },
      "source": [
        "Write a `merge_sorter` generator that merges sorted sequences of integers.\n",
        "\n",
        "The generator takes an arbitrary number of arguments. The argument can be any iterable, including another generator. It is guaranteed that each argument is a sequence of integers, sorted in non-decreasing order."
      ]
    },
    {
      "cell_type": "code",
      "execution_count": 4,
      "metadata": {
        "colab": {
          "base_uri": "https://localhost:8080/"
        },
        "id": "G6TDicWeEhWE",
        "outputId": "29eb4760-90bd-40ff-ee6e-ce4e9a845272"
      },
      "outputs": [
        {
          "output_type": "stream",
          "name": "stdout",
          "text": [
            "[0, 1, 2, 3, 4, 5, 6, 7, 8, 9, 10, 11, 12, 13]\n"
          ]
        }
      ],
      "source": [
        "def merge_sorter(*args):\n",
        "    iterators = [iter(arg) for arg in args]\n",
        "\n",
        "    def merge(iterators):\n",
        "        merged = []\n",
        "        for it in iterators:\n",
        "            try:\n",
        "                merged.append(next(it))\n",
        "            except StopIteration:\n",
        "                pass\n",
        "\n",
        "        while iterators:\n",
        "            min_val = min(merged)\n",
        "            yield min_val\n",
        "            idx = merged.index(min_val)\n",
        "            try:\n",
        "                merged[idx] = next(iterators[idx])\n",
        "            except StopIteration:\n",
        "                merged.pop(idx)\n",
        "                iterators.pop(idx)\n",
        "\n",
        "    while iterators:\n",
        "        yield from merge(iterators)\n",
        "\n",
        "seq1 = [1, 3, 5, 7, 9]\n",
        "seq2 = [2, 4, 6, 8, 10]\n",
        "seq3 = [0, 11, 12, 13]\n",
        "merged_generator = merge_sorter(seq1, seq2, seq3)\n",
        "final_list = []\n",
        "\n",
        "for value in merged_generator:\n",
        "    final_list.append(value)\n",
        "\n",
        "print(final_list)\n"
      ]
    },
    {
      "cell_type": "markdown",
      "metadata": {
        "id": "Y68G20wiEhWE"
      },
      "source": [
        "## Task 8"
      ]
    },
    {
      "cell_type": "markdown",
      "metadata": {
        "id": "eZoxoe1yEhWE"
      },
      "source": [
        "Write the decorator proﬁler, which, when calling a function, will store in its attributes (not to be confused with arguments) the time of its execution (in seconds, it can be fractional) and the number of recursive calls that occurred during execution. Name the attributes `last_time_taken` and `calls`. It is forbidden to use global variables. The decorator must behave in a decent manner, that is, it must not overwrite the function's documentation.\n",
        "\n",
        "For tests write [Ackemann function](https://en.wikipedia.org/wiki/Ackermann_function)."
      ]
    },
    {
      "cell_type": "code",
      "execution_count": 14,
      "metadata": {
        "colab": {
          "base_uri": "https://localhost:8080/"
        },
        "id": "3GR8sUHxEhWE",
        "outputId": "028213f5-0a2d-4c2d-df06-68cd1b9e3988"
      },
      "outputs": [
        {
          "output_type": "stream",
          "name": "stdout",
          "text": [
            "125\n",
            "Last time taken: 0.01361703872680664 seconds\n",
            "Number of calls: 10307\n"
          ]
        }
      ],
      "source": [
        "import time\n",
        "from functools import wraps\n",
        "\n",
        "def profiler(func):\n",
        "    @wraps(func)\n",
        "    def wrapper(*args, **kwargs):\n",
        "        if not hasattr(wrapper, 'last_time_taken'):\n",
        "            wrapper.last_time_taken = 0\n",
        "        if not hasattr(wrapper, 'calls'):\n",
        "            wrapper.calls = 0\n",
        "\n",
        "        start_time = time.time()\n",
        "        result = func(*args, **kwargs)\n",
        "        end_time = time.time()\n",
        "\n",
        "        wrapper.last_time_taken = end_time - start_time\n",
        "        wrapper.calls += 1\n",
        "\n",
        "        return result\n",
        "    return wrapper\n",
        "\n",
        "@profiler\n",
        "def ackermann(m: int, n: int) -> int:\n",
        "    if m == 0:\n",
        "        return n + 1\n",
        "    elif n == 0:\n",
        "        return ackermann(m - 1, 1)\n",
        "    else:\n",
        "        return ackermann(m - 1, ackermann(m, n - 1))\n",
        "\n",
        "\n",
        "print(ackermann(3, 4))\n",
        "print(f\"Last time taken: {ackermann.last_time_taken} seconds\")\n",
        "print(f\"Number of calls: {ackermann.calls}\")\n"
      ]
    },
    {
      "cell_type": "markdown",
      "metadata": {
        "id": "KTR_tkxZEhWF"
      },
      "source": []
    }
  ],
  "metadata": {
    "kernelspec": {
      "display_name": "Python 3",
      "language": "python",
      "name": "python3"
    },
    "language_info": {
      "codemirror_mode": {
        "name": "ipython",
        "version": 3
      },
      "file_extension": ".py",
      "mimetype": "text/x-python",
      "name": "python",
      "nbconvert_exporter": "python",
      "pygments_lexer": "ipython3",
      "version": "3.9.6"
    },
    "colab": {
      "provenance": [],
      "toc_visible": true
    }
  },
  "nbformat": 4,
  "nbformat_minor": 0
}