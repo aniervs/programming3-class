{
  "cells": [
    {
      "cell_type": "markdown",
      "metadata": {
        "id": "Pf0X3G7Wlyb5"
      },
      "source": [
        "In this assignment, you'll be working with functions, generators, and decorators."
      ]
    },
    {
      "cell_type": "markdown",
      "metadata": {
        "id": "lz0tvcKJlyb7"
      },
      "source": [
        "## Instructions"
      ]
    },
    {
      "cell_type": "markdown",
      "metadata": {
        "id": "r-IsJ-xulyb8"
      },
      "source": [
        "- Inside the solutions folder (`programming3-class/assignment_functions/solutions/`), create a folder with your name lowercase (for e.g., if your name is Anier, then your folder would be named `anier`).\n",
        "- Copy the given notebook inside the corresponding folder (in my case, I would have to copy it to `programming3-class/assignment_functions/solutions/anier/`) and solve the tasks.\n",
        "- Each of the tasks contains a line saying `raise NotImplementedError`. This is there in purpose. Once you've implemented a task, remove that line on that task.\n",
        "- Once you're done, make a PR with your commits."
      ]
    },
    {
      "cell_type": "markdown",
      "metadata": {
        "id": "54qJZ1TRlyb8"
      },
      "source": [
        "## Task 1"
      ]
    },
    {
      "cell_type": "markdown",
      "metadata": {
        "id": "4Fd5yTD7lyb9"
      },
      "source": [
        "Write a function with documentation in a docstring (no need for a complicated documentation, just something very simple describing the function).\n",
        "- The function should contain all types of arguments (positional, positional with defaults, arbitrary args, keyword args, arbitrary keyword args)."
      ]
    },
    {
      "cell_type": "code",
      "execution_count": 1,
      "metadata": {
        "id": "JS7EwN5Elyb9"
      },
      "outputs": [],
      "source": [
        "def my_function(positional_arg, default_arg=10, *args, **kwargs):\n",
        "    \"\"\"\n",
        "    This function does nothing interesting.\n",
        "\n",
        "    Args:\n",
        "    positional_arg: A required positional argument.\n",
        "    default_arg: An optional positional argument with a default value of 10.\n",
        "    *args: Arbitrary positional arguments.\n",
        "    **kwargs: Arbitrary keyword arguments.\n",
        "    \"\"\"\n",
        "    print(\"positional_arg:\", positional_arg)\n",
        "    print(\"default_arg:\", default_arg)\n",
        "    print(\"*args:\", args)\n",
        "    print(\"**kwargs:\", kwargs)"
      ]
    },
    {
      "cell_type": "markdown",
      "metadata": {
        "id": "2rJeZ15Rlyb9"
      },
      "source": [
        "## Task 2"
      ]
    },
    {
      "cell_type": "markdown",
      "metadata": {
        "id": "F7nXT53Tlyb-"
      },
      "source": [
        "A number is prime if it has 2 divisors exactly.\n",
        "\n",
        "The first few primes are: 2, 3, 5, 7, 11, ...\n",
        "\n",
        "\n",
        "\n",
        "Make a function that checks if a number is prime or not."
      ]
    },
    {
      "cell_type": "code",
      "execution_count": 2,
      "metadata": {
        "id": "3HFZBLbplyb-"
      },
      "outputs": [],
      "source": [
        "from math import sqrt\n",
        "\n",
        "def is_prime(n: int) -> bool:\n",
        "    if n <= 1:\n",
        "        return False\n",
        "    if n % 2 == 0 or n % 3 == 0:\n",
        "        return False\n",
        "    limit = int(sqrt(n))\n",
        "    for i in range(5, limit+1, 6):\n",
        "        if n % i == 0 or n % (i+2) == 0:\n",
        "            return False\n",
        "    return True"
      ]
    },
    {
      "cell_type": "markdown",
      "metadata": {
        "id": "Zv2xRsq-lyb-"
      },
      "source": [
        "\n",
        "## Task 3"
      ]
    },
    {
      "cell_type": "markdown",
      "metadata": {
        "id": "sGJ46_3nlyb-"
      },
      "source": [
        "Implement the following function according to the docstring provided.\n",
        "\n",
        "Read https://docs.python.org/3.11/library/inspect.html in order to see how to get each requested information."
      ]
    },
    {
      "cell_type": "code",
      "execution_count": 12,
      "metadata": {
        "id": "krBs_JT2lyb_"
      },
      "outputs": [],
      "source": [
        "import inspect\n",
        "\n",
        "def inspect_function(func):\n",
        "    \"\"\"\n",
        "    Takes another function as an argument (but not built-in)\n",
        "    and print the following data:\n",
        "    the name of the analyzed function,\n",
        "    the name of all the arguments it takes\n",
        "    and their types (positional, keyword, etc.)\n",
        "    \"\"\"\n",
        "    signature = inspect.signature(func)\n",
        "    print(\"Function Name:\", func.__name__)\n",
        "    for param in signature.parameters.values():\n",
        "        print(\"Parameter:\", param.name, \" - \", param.kind)"
      ]
    },
    {
      "cell_type": "code",
      "source": [
        "inspect_function(my_function)"
      ],
      "metadata": {
        "colab": {
          "base_uri": "https://localhost:8080/"
        },
        "id": "vp8GZHtOpNZ1",
        "outputId": "7d8976f9-be08-42fd-bc47-b4d7f0ecb384"
      },
      "execution_count": 13,
      "outputs": [
        {
          "output_type": "stream",
          "name": "stdout",
          "text": [
            "Function Name: my_function\n",
            "Parameter: positional_arg  -  POSITIONAL_OR_KEYWORD\n",
            "Parameter: default_arg  -  POSITIONAL_OR_KEYWORD\n",
            "Parameter: args  -  VAR_POSITIONAL\n",
            "Parameter: kwargs  -  VAR_KEYWORD\n"
          ]
        }
      ]
    },
    {
      "cell_type": "markdown",
      "metadata": {
        "id": "PG85bU_rlyb_"
      },
      "source": [
        "## Task 4"
      ]
    },
    {
      "cell_type": "markdown",
      "metadata": {
        "id": "FwdghlKGlyb_"
      },
      "source": [
        "The following function isn't working properly.\n",
        "Fix it so that it prints the current datetime with a message."
      ]
    },
    {
      "cell_type": "code",
      "execution_count": 17,
      "metadata": {
        "id": "QP22JFXilyb_"
      },
      "outputs": [],
      "source": [
        "from datetime import datetime\n",
        "from time import sleep\n",
        "\n",
        "# wrong function\n",
        "def my_time_now(msg):\n",
        "    print(msg, datetime.now())"
      ]
    },
    {
      "cell_type": "code",
      "execution_count": 23,
      "metadata": {
        "colab": {
          "base_uri": "https://localhost:8080/"
        },
        "id": "QMmZac5Wlyb_",
        "outputId": "c009e39a-aade-4f73-d605-2cd41aacf4ed"
      },
      "outputs": [
        {
          "output_type": "stream",
          "name": "stdout",
          "text": [
            "The time is now:  2024-02-07 00:02:28.710020\n",
            "The time is now:  2024-02-07 00:02:29.711521\n",
            "The time is now:  2024-02-07 00:02:30.713106\n"
          ]
        }
      ],
      "source": [
        "# simple tests :)\n",
        "my_time_now('The time is now: ')\n",
        "sleep(1)\n",
        "my_time_now('The time is now: ')\n",
        "sleep(1)\n",
        "my_time_now('The time is now: ')"
      ]
    },
    {
      "cell_type": "markdown",
      "metadata": {
        "id": "SuMOPOR3lycA"
      },
      "source": [
        "## Task 5"
      ]
    },
    {
      "cell_type": "markdown",
      "metadata": {
        "id": "1wLIhf9llycA"
      },
      "source": [
        "Make a function that returns at most `max_count` values of a given generator."
      ]
    },
    {
      "cell_type": "code",
      "execution_count": 24,
      "metadata": {
        "id": "eZm9Yc3PlycA"
      },
      "outputs": [],
      "source": [
        "def limit(input_generator, max_count):\n",
        "    \"\"\"\n",
        "    Generator that returns not more than max_count values of the input_generator.\n",
        "    \"\"\"\n",
        "    count = 0\n",
        "    for value in input_generator:\n",
        "        if count < max_count:\n",
        "            yield value\n",
        "            count += 1\n",
        "        else:\n",
        "            break"
      ]
    },
    {
      "cell_type": "code",
      "source": [
        "def my_generator():\n",
        "    for i in range(1000):\n",
        "        yield i\n",
        "\n",
        "limited_values = list(limit(my_generator(), 5))\n",
        "print(limited_values)"
      ],
      "metadata": {
        "colab": {
          "base_uri": "https://localhost:8080/"
        },
        "id": "6tiuh3XHqQMJ",
        "outputId": "bbeb3139-a1e6-4b7f-ee4b-166e4bc09bee"
      },
      "execution_count": 25,
      "outputs": [
        {
          "output_type": "stream",
          "name": "stdout",
          "text": [
            "[0, 1, 2, 3, 4]\n"
          ]
        }
      ]
    },
    {
      "cell_type": "markdown",
      "metadata": {
        "id": "NEphL_R9lycA"
      },
      "source": [
        "## Task 6"
      ]
    },
    {
      "cell_type": "markdown",
      "metadata": {
        "id": "3TsNWMx7lycB"
      },
      "source": [
        "Write a generator for an infinite sequence of numbers from the Pascal's triangle. The sequence look like this: `1 1 1 1 2 1 1 3 3 1 1 4 6 4 1 1 5 10 10 5 1 1 6 15 20 15 6 1 1 7 21 35 35 21 7 1 1 8 28 56 70 56 28 8 1 1 9 36 84 126 126 84 36 9 1 ... '\n",
        "\n",
        "Test it with a generator from the previous task"
      ]
    },
    {
      "cell_type": "code",
      "execution_count": 31,
      "metadata": {
        "colab": {
          "base_uri": "https://localhost:8080/"
        },
        "id": "1CSVivNblycB",
        "outputId": "90237cee-dd78-4db9-8366-21aaebd718ab"
      },
      "outputs": [
        {
          "output_type": "execute_result",
          "data": {
            "text/plain": [
              "[1, 1, 1, 1, 2, 1, 1, 3, 3, 1, 1, 4, 6, 4, 1, 1, 5, 10, 10]"
            ]
          },
          "metadata": {},
          "execution_count": 31
        }
      ],
      "source": [
        "def pascals_triangle():\n",
        "    row = [1]\n",
        "    while True:\n",
        "        for num in row:\n",
        "            yield num\n",
        "        row = [1] + [row[i] + row[i + 1] for i in range(len(row) - 1)] + [1]\n",
        "\n",
        "list(limit(pascals_triangle(), 19))"
      ]
    },
    {
      "cell_type": "markdown",
      "metadata": {
        "id": "eYq6l7nhlycB"
      },
      "source": [
        "## Task 7"
      ]
    },
    {
      "cell_type": "markdown",
      "metadata": {
        "id": "l9d2IgehlycB"
      },
      "source": [
        "Write a `merge_sorter` generator that merges sorted sequences of integers.\n",
        "\n",
        "The generator takes an arbitrary number of arguments. The argument can be any iterable, including another generator. It is guaranteed that each argument is a sequence of integers, sorted in non-decreasing order."
      ]
    },
    {
      "cell_type": "code",
      "execution_count": 32,
      "metadata": {
        "id": "M_M-7vUYlycB"
      },
      "outputs": [],
      "source": [
        "def merge_sorter(*args):\n",
        "    iterators = [iter(arg) for arg in args]\n",
        "    current = [next(it) for it in iterators]\n",
        "    while True:\n",
        "        min_val, min_idx = min((val, idx) for idx, val in enumerate(current) if val is not None)\n",
        "        yield min_val\n",
        "        try:\n",
        "            current[min_idx] = next(iterators[min_idx])\n",
        "        except StopIteration:\n",
        "            current[min_idx] = None\n",
        "            if all(val is None for val in current):\n",
        "                break"
      ]
    },
    {
      "cell_type": "code",
      "source": [
        "test_sequence_1 = [1, 3, 5, 7, 9]\n",
        "test_sequence_2 = [2, 4, 6, 8, 10]\n",
        "test_sequence_3 = [0, 2, 4, 6, 8]\n",
        "merged_generator = merge_sorter(test_sequence_1, test_sequence_2, test_sequence_3)\n",
        "print(list(merged_generator))"
      ],
      "metadata": {
        "colab": {
          "base_uri": "https://localhost:8080/"
        },
        "id": "0egJxhSksYj4",
        "outputId": "9dd5a817-0273-4690-df88-0d5328178485"
      },
      "execution_count": 35,
      "outputs": [
        {
          "output_type": "stream",
          "name": "stdout",
          "text": [
            "[0, 1, 2, 2, 3, 4, 4, 5, 6, 6, 7, 8, 8, 9, 10]\n"
          ]
        }
      ]
    },
    {
      "cell_type": "markdown",
      "metadata": {
        "id": "WsknaKg4lycB"
      },
      "source": [
        "## Task 8"
      ]
    },
    {
      "cell_type": "markdown",
      "metadata": {
        "id": "j3y5ZiOzlycB"
      },
      "source": [
        "Write the decorator proﬁler, which, when calling a function, will store in its attributes (not to be confused with arguments) the time of its execution (in seconds, it can be fractional) and the number of recursive calls that occurred during execution. Name the attributes `last_time_taken` and `calls`. It is forbidden to use global variables. The decorator must behave in a decent manner, that is, it must not overwrite the function's documentation.\n",
        "\n",
        "For tests write [Ackemann function](https://en.wikipedia.org/wiki/Ackermann_function)."
      ]
    },
    {
      "cell_type": "code",
      "execution_count": 67,
      "metadata": {
        "id": "1BILi9LKlycB"
      },
      "outputs": [],
      "source": [
        "import time\n",
        "import functools\n",
        "\n",
        "def profiler(func):\n",
        "    @functools.wraps(func)\n",
        "    def wrapper(*args, **kwargs):\n",
        "        if not hasattr(wrapper, 'calls'):\n",
        "            wrapper.calls = 0\n",
        "        wrapper.calls += 1\n",
        "        start_time = time.time()\n",
        "        result = func(*args, **kwargs)\n",
        "        end_time = time.time()\n",
        "        wrapper.last_time_taken = end_time - start_time\n",
        "        return result\n",
        "    return wrapper\n",
        "\n",
        "@profiler\n",
        "def ackermann(m, n):\n",
        "    if m == 0:\n",
        "        return n + 1\n",
        "    elif n == 0:\n",
        "        return ackermann(m - 1, 1)\n",
        "    else:\n",
        "        return ackermann(m - 1, ackermann(m, n - 1))"
      ]
    },
    {
      "cell_type": "code",
      "source": [
        "result = ackermann(1, 1)\n",
        "\n",
        "print(f\"Time taken for the last call: {ackermann.last_time_taken} seconds\")\n",
        "print(f\"Number of recursive calls: {ackermann.calls}\")"
      ],
      "metadata": {
        "colab": {
          "base_uri": "https://localhost:8080/"
        },
        "id": "Q2hspskAtj6N",
        "outputId": "683ca984-11f8-493e-a86e-91811c2a410e"
      },
      "execution_count": 70,
      "outputs": [
        {
          "output_type": "stream",
          "name": "stdout",
          "text": [
            "Time taken for the last call: 9.298324584960938e-06 seconds\n",
            "Number of recursive calls: 24\n"
          ]
        }
      ]
    },
    {
      "cell_type": "markdown",
      "metadata": {
        "id": "RaOTbzdnlycC"
      },
      "source": []
    }
  ],
  "metadata": {
    "kernelspec": {
      "display_name": "Python 3",
      "language": "python",
      "name": "python3"
    },
    "language_info": {
      "codemirror_mode": {
        "name": "ipython",
        "version": 3
      },
      "file_extension": ".py",
      "mimetype": "text/x-python",
      "name": "python",
      "nbconvert_exporter": "python",
      "pygments_lexer": "ipython3",
      "version": "3.9.6"
    },
    "colab": {
      "provenance": []
    }
  },
  "nbformat": 4,
  "nbformat_minor": 0
}